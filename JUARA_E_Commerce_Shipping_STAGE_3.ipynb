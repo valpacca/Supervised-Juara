{
  "nbformat": 4,
  "nbformat_minor": 0,
  "metadata": {
    "colab": {
      "name": "JUARA_E_Commerce_Shipping_STAGE_3.ipynb",
      "provenance": [],
      "collapsed_sections": []
    },
    "kernelspec": {
      "name": "python3",
      "display_name": "Python 3"
    },
    "language_info": {
      "name": "python"
    }
  },
  "cells": [
    {
      "cell_type": "markdown",
      "source": [
        "# Import Libraries"
      ],
      "metadata": {
        "id": "Za0fOhcVfdkP"
      }
    },
    {
      "cell_type": "code",
      "execution_count": null,
      "metadata": {
        "id": "a03s12vEaUFg"
      },
      "outputs": [],
      "source": [
        "import pandas as pd\n",
        "import matplotlib.pyplot as plt\n",
        "import seaborn as sns\n",
        "import numpy as np\n",
        "from scipy import stats"
      ]
    },
    {
      "cell_type": "code",
      "source": [
        "from matplotlib import rcParams\n",
        "\n",
        "rcParams['figure.figsize'] = 12, 4\n",
        "rcParams['lines.linewidth'] = 3\n",
        "rcParams['xtick.labelsize'] = 'x-large'\n",
        "rcParams['ytick.labelsize'] = 'x-large'"
      ],
      "metadata": {
        "id": "O90AgTSWMewi"
      },
      "execution_count": null,
      "outputs": []
    },
    {
      "cell_type": "markdown",
      "source": [
        "# Load Dataset"
      ],
      "metadata": {
        "id": "3l2b_t0dfmpD"
      }
    },
    {
      "cell_type": "code",
      "source": [
        "df = pd.read_csv('Train.csv')"
      ],
      "metadata": {
        "id": "XFq7gymZeFvw"
      },
      "execution_count": null,
      "outputs": []
    },
    {
      "cell_type": "code",
      "source": [
        "df.sample(5)"
      ],
      "metadata": {
        "colab": {
          "base_uri": "https://localhost:8080/",
          "height": 270
        },
        "id": "l6Hd2KovfE3q",
        "outputId": "c24dce74-2657-4462-ef88-8024a8a5c523"
      },
      "execution_count": null,
      "outputs": [
        {
          "output_type": "execute_result",
          "data": {
            "text/plain": [
              "        ID Warehouse_block Mode_of_Shipment  Customer_care_calls  \\\n",
              "1658  1659               A           Flight                    5   \n",
              "9896  9897               A             Ship                    4   \n",
              "9181  9182               F           Flight                    7   \n",
              "6159  6160               B             Road                    3   \n",
              "4971  4972               B             Ship                    2   \n",
              "\n",
              "      Customer_rating  Cost_of_the_Product  Prior_purchases  \\\n",
              "1658                2                  240                7   \n",
              "9896                5                  220                3   \n",
              "9181                3                  247                4   \n",
              "6159                4                  153                2   \n",
              "4971                5                  259                3   \n",
              "\n",
              "     Product_importance Gender  Discount_offered  Weight_in_gms  \\\n",
              "1658             medium      F                47           2174   \n",
              "9896             medium      F                 1           4912   \n",
              "9181             medium      M                 5           1060   \n",
              "6159             medium      M                 5           4023   \n",
              "4971                low      M                 3           4770   \n",
              "\n",
              "      Reached.on.Time_Y.N  \n",
              "1658                    1  \n",
              "9896                    1  \n",
              "9181                    0  \n",
              "6159                    1  \n",
              "4971                    1  "
            ],
            "text/html": [
              "\n",
              "  <div id=\"df-c7aa9843-62c5-4b5a-a084-ebcd177c65d0\">\n",
              "    <div class=\"colab-df-container\">\n",
              "      <div>\n",
              "<style scoped>\n",
              "    .dataframe tbody tr th:only-of-type {\n",
              "        vertical-align: middle;\n",
              "    }\n",
              "\n",
              "    .dataframe tbody tr th {\n",
              "        vertical-align: top;\n",
              "    }\n",
              "\n",
              "    .dataframe thead th {\n",
              "        text-align: right;\n",
              "    }\n",
              "</style>\n",
              "<table border=\"1\" class=\"dataframe\">\n",
              "  <thead>\n",
              "    <tr style=\"text-align: right;\">\n",
              "      <th></th>\n",
              "      <th>ID</th>\n",
              "      <th>Warehouse_block</th>\n",
              "      <th>Mode_of_Shipment</th>\n",
              "      <th>Customer_care_calls</th>\n",
              "      <th>Customer_rating</th>\n",
              "      <th>Cost_of_the_Product</th>\n",
              "      <th>Prior_purchases</th>\n",
              "      <th>Product_importance</th>\n",
              "      <th>Gender</th>\n",
              "      <th>Discount_offered</th>\n",
              "      <th>Weight_in_gms</th>\n",
              "      <th>Reached.on.Time_Y.N</th>\n",
              "    </tr>\n",
              "  </thead>\n",
              "  <tbody>\n",
              "    <tr>\n",
              "      <th>1658</th>\n",
              "      <td>1659</td>\n",
              "      <td>A</td>\n",
              "      <td>Flight</td>\n",
              "      <td>5</td>\n",
              "      <td>2</td>\n",
              "      <td>240</td>\n",
              "      <td>7</td>\n",
              "      <td>medium</td>\n",
              "      <td>F</td>\n",
              "      <td>47</td>\n",
              "      <td>2174</td>\n",
              "      <td>1</td>\n",
              "    </tr>\n",
              "    <tr>\n",
              "      <th>9896</th>\n",
              "      <td>9897</td>\n",
              "      <td>A</td>\n",
              "      <td>Ship</td>\n",
              "      <td>4</td>\n",
              "      <td>5</td>\n",
              "      <td>220</td>\n",
              "      <td>3</td>\n",
              "      <td>medium</td>\n",
              "      <td>F</td>\n",
              "      <td>1</td>\n",
              "      <td>4912</td>\n",
              "      <td>1</td>\n",
              "    </tr>\n",
              "    <tr>\n",
              "      <th>9181</th>\n",
              "      <td>9182</td>\n",
              "      <td>F</td>\n",
              "      <td>Flight</td>\n",
              "      <td>7</td>\n",
              "      <td>3</td>\n",
              "      <td>247</td>\n",
              "      <td>4</td>\n",
              "      <td>medium</td>\n",
              "      <td>M</td>\n",
              "      <td>5</td>\n",
              "      <td>1060</td>\n",
              "      <td>0</td>\n",
              "    </tr>\n",
              "    <tr>\n",
              "      <th>6159</th>\n",
              "      <td>6160</td>\n",
              "      <td>B</td>\n",
              "      <td>Road</td>\n",
              "      <td>3</td>\n",
              "      <td>4</td>\n",
              "      <td>153</td>\n",
              "      <td>2</td>\n",
              "      <td>medium</td>\n",
              "      <td>M</td>\n",
              "      <td>5</td>\n",
              "      <td>4023</td>\n",
              "      <td>1</td>\n",
              "    </tr>\n",
              "    <tr>\n",
              "      <th>4971</th>\n",
              "      <td>4972</td>\n",
              "      <td>B</td>\n",
              "      <td>Ship</td>\n",
              "      <td>2</td>\n",
              "      <td>5</td>\n",
              "      <td>259</td>\n",
              "      <td>3</td>\n",
              "      <td>low</td>\n",
              "      <td>M</td>\n",
              "      <td>3</td>\n",
              "      <td>4770</td>\n",
              "      <td>1</td>\n",
              "    </tr>\n",
              "  </tbody>\n",
              "</table>\n",
              "</div>\n",
              "      <button class=\"colab-df-convert\" onclick=\"convertToInteractive('df-c7aa9843-62c5-4b5a-a084-ebcd177c65d0')\"\n",
              "              title=\"Convert this dataframe to an interactive table.\"\n",
              "              style=\"display:none;\">\n",
              "        \n",
              "  <svg xmlns=\"http://www.w3.org/2000/svg\" height=\"24px\"viewBox=\"0 0 24 24\"\n",
              "       width=\"24px\">\n",
              "    <path d=\"M0 0h24v24H0V0z\" fill=\"none\"/>\n",
              "    <path d=\"M18.56 5.44l.94 2.06.94-2.06 2.06-.94-2.06-.94-.94-2.06-.94 2.06-2.06.94zm-11 1L8.5 8.5l.94-2.06 2.06-.94-2.06-.94L8.5 2.5l-.94 2.06-2.06.94zm10 10l.94 2.06.94-2.06 2.06-.94-2.06-.94-.94-2.06-.94 2.06-2.06.94z\"/><path d=\"M17.41 7.96l-1.37-1.37c-.4-.4-.92-.59-1.43-.59-.52 0-1.04.2-1.43.59L10.3 9.45l-7.72 7.72c-.78.78-.78 2.05 0 2.83L4 21.41c.39.39.9.59 1.41.59.51 0 1.02-.2 1.41-.59l7.78-7.78 2.81-2.81c.8-.78.8-2.07 0-2.86zM5.41 20L4 18.59l7.72-7.72 1.47 1.35L5.41 20z\"/>\n",
              "  </svg>\n",
              "      </button>\n",
              "      \n",
              "  <style>\n",
              "    .colab-df-container {\n",
              "      display:flex;\n",
              "      flex-wrap:wrap;\n",
              "      gap: 12px;\n",
              "    }\n",
              "\n",
              "    .colab-df-convert {\n",
              "      background-color: #E8F0FE;\n",
              "      border: none;\n",
              "      border-radius: 50%;\n",
              "      cursor: pointer;\n",
              "      display: none;\n",
              "      fill: #1967D2;\n",
              "      height: 32px;\n",
              "      padding: 0 0 0 0;\n",
              "      width: 32px;\n",
              "    }\n",
              "\n",
              "    .colab-df-convert:hover {\n",
              "      background-color: #E2EBFA;\n",
              "      box-shadow: 0px 1px 2px rgba(60, 64, 67, 0.3), 0px 1px 3px 1px rgba(60, 64, 67, 0.15);\n",
              "      fill: #174EA6;\n",
              "    }\n",
              "\n",
              "    [theme=dark] .colab-df-convert {\n",
              "      background-color: #3B4455;\n",
              "      fill: #D2E3FC;\n",
              "    }\n",
              "\n",
              "    [theme=dark] .colab-df-convert:hover {\n",
              "      background-color: #434B5C;\n",
              "      box-shadow: 0px 1px 3px 1px rgba(0, 0, 0, 0.15);\n",
              "      filter: drop-shadow(0px 1px 2px rgba(0, 0, 0, 0.3));\n",
              "      fill: #FFFFFF;\n",
              "    }\n",
              "  </style>\n",
              "\n",
              "      <script>\n",
              "        const buttonEl =\n",
              "          document.querySelector('#df-c7aa9843-62c5-4b5a-a084-ebcd177c65d0 button.colab-df-convert');\n",
              "        buttonEl.style.display =\n",
              "          google.colab.kernel.accessAllowed ? 'block' : 'none';\n",
              "\n",
              "        async function convertToInteractive(key) {\n",
              "          const element = document.querySelector('#df-c7aa9843-62c5-4b5a-a084-ebcd177c65d0');\n",
              "          const dataTable =\n",
              "            await google.colab.kernel.invokeFunction('convertToInteractive',\n",
              "                                                     [key], {});\n",
              "          if (!dataTable) return;\n",
              "\n",
              "          const docLinkHtml = 'Like what you see? Visit the ' +\n",
              "            '<a target=\"_blank\" href=https://colab.research.google.com/notebooks/data_table.ipynb>data table notebook</a>'\n",
              "            + ' to learn more about interactive tables.';\n",
              "          element.innerHTML = '';\n",
              "          dataTable['output_type'] = 'display_data';\n",
              "          await google.colab.output.renderOutput(dataTable, element);\n",
              "          const docLink = document.createElement('div');\n",
              "          docLink.innerHTML = docLinkHtml;\n",
              "          element.appendChild(docLink);\n",
              "        }\n",
              "      </script>\n",
              "    </div>\n",
              "  </div>\n",
              "  "
            ]
          },
          "metadata": {},
          "execution_count": 7
        }
      ]
    },
    {
      "cell_type": "markdown",
      "source": [
        "# Descriptive Statistics"
      ],
      "metadata": {
        "id": "KP3agbHTfzSH"
      }
    },
    {
      "cell_type": "code",
      "source": [
        "df.info()"
      ],
      "metadata": {
        "colab": {
          "base_uri": "https://localhost:8080/"
        },
        "id": "nTdAxeYLfGve",
        "outputId": "03e10e94-c0f4-4758-bdde-9d772465d5a6"
      },
      "execution_count": null,
      "outputs": [
        {
          "output_type": "stream",
          "name": "stdout",
          "text": [
            "<class 'pandas.core.frame.DataFrame'>\n",
            "RangeIndex: 10999 entries, 0 to 10998\n",
            "Data columns (total 12 columns):\n",
            " #   Column               Non-Null Count  Dtype \n",
            "---  ------               --------------  ----- \n",
            " 0   ID                   10999 non-null  int64 \n",
            " 1   Warehouse_block      10999 non-null  object\n",
            " 2   Mode_of_Shipment     10999 non-null  object\n",
            " 3   Customer_care_calls  10999 non-null  int64 \n",
            " 4   Customer_rating      10999 non-null  int64 \n",
            " 5   Cost_of_the_Product  10999 non-null  int64 \n",
            " 6   Prior_purchases      10999 non-null  int64 \n",
            " 7   Product_importance   10999 non-null  object\n",
            " 8   Gender               10999 non-null  object\n",
            " 9   Discount_offered     10999 non-null  int64 \n",
            " 10  Weight_in_gms        10999 non-null  int64 \n",
            " 11  Reached.on.Time_Y.N  10999 non-null  int64 \n",
            "dtypes: int64(8), object(4)\n",
            "memory usage: 1.0+ MB\n"
          ]
        }
      ]
    },
    {
      "cell_type": "markdown",
      "source": [
        "# Missing Data"
      ],
      "metadata": {
        "id": "sP050617quM-"
      }
    },
    {
      "cell_type": "code",
      "source": [
        "df.isna().sum()"
      ],
      "metadata": {
        "colab": {
          "base_uri": "https://localhost:8080/"
        },
        "id": "fDejQCV1qxYZ",
        "outputId": "1e580c91-d34b-4e77-e6bb-1bb5feb360e0"
      },
      "execution_count": null,
      "outputs": [
        {
          "output_type": "execute_result",
          "data": {
            "text/plain": [
              "ID                     0\n",
              "Warehouse_block        0\n",
              "Mode_of_Shipment       0\n",
              "Customer_care_calls    0\n",
              "Customer_rating        0\n",
              "Cost_of_the_Product    0\n",
              "Prior_purchases        0\n",
              "Product_importance     0\n",
              "Gender                 0\n",
              "Discount_offered       0\n",
              "Weight_in_gms          0\n",
              "Reached.on.Time_Y.N    0\n",
              "dtype: int64"
            ]
          },
          "metadata": {},
          "execution_count": 9
        }
      ]
    },
    {
      "cell_type": "markdown",
      "source": [
        "# Duplicated Data"
      ],
      "metadata": {
        "id": "b6sA-cifqxto"
      }
    },
    {
      "cell_type": "code",
      "source": [
        "df.duplicated().sum()"
      ],
      "metadata": {
        "colab": {
          "base_uri": "https://localhost:8080/"
        },
        "id": "_EzrPB50q0h_",
        "outputId": "92e4cd00-bdec-4df6-c99d-ea6f5da61015"
      },
      "execution_count": null,
      "outputs": [
        {
          "output_type": "execute_result",
          "data": {
            "text/plain": [
              "0"
            ]
          },
          "metadata": {},
          "execution_count": 10
        }
      ]
    },
    {
      "cell_type": "markdown",
      "source": [
        "# Statistical Summary"
      ],
      "metadata": {
        "id": "CGANc6PufXt9"
      }
    },
    {
      "cell_type": "code",
      "source": [
        "nums = ['Cost_of_the_Product','Discount_offered','Weight_in_gms']\n",
        "cats = ['Warehouse_block','Mode_of_Shipment','Product_importance','Gender','Customer_care_calls','Customer_rating','Prior_purchases']"
      ],
      "metadata": {
        "id": "7AgKCW-qf_eI"
      },
      "execution_count": null,
      "outputs": []
    },
    {
      "cell_type": "code",
      "source": [
        "# ringkasan statistik dari kolom numerik\n",
        "df[nums].describe()"
      ],
      "metadata": {
        "colab": {
          "base_uri": "https://localhost:8080/",
          "height": 300
        },
        "id": "ZCjv51UagFfF",
        "outputId": "951aa725-11fe-43fe-fed9-43ec93f399a3"
      },
      "execution_count": null,
      "outputs": [
        {
          "output_type": "execute_result",
          "data": {
            "text/plain": [
              "       Cost_of_the_Product  Discount_offered  Weight_in_gms\n",
              "count         10999.000000      10999.000000   10999.000000\n",
              "mean            210.196836         13.373216    3634.016729\n",
              "std              48.063272         16.205527    1635.377251\n",
              "min              96.000000          1.000000    1001.000000\n",
              "25%             169.000000          4.000000    1839.500000\n",
              "50%             214.000000          7.000000    4149.000000\n",
              "75%             251.000000         10.000000    5050.000000\n",
              "max             310.000000         65.000000    7846.000000"
            ],
            "text/html": [
              "\n",
              "  <div id=\"df-a637a051-185c-4f09-8bae-ee8de4bd792c\">\n",
              "    <div class=\"colab-df-container\">\n",
              "      <div>\n",
              "<style scoped>\n",
              "    .dataframe tbody tr th:only-of-type {\n",
              "        vertical-align: middle;\n",
              "    }\n",
              "\n",
              "    .dataframe tbody tr th {\n",
              "        vertical-align: top;\n",
              "    }\n",
              "\n",
              "    .dataframe thead th {\n",
              "        text-align: right;\n",
              "    }\n",
              "</style>\n",
              "<table border=\"1\" class=\"dataframe\">\n",
              "  <thead>\n",
              "    <tr style=\"text-align: right;\">\n",
              "      <th></th>\n",
              "      <th>Cost_of_the_Product</th>\n",
              "      <th>Discount_offered</th>\n",
              "      <th>Weight_in_gms</th>\n",
              "    </tr>\n",
              "  </thead>\n",
              "  <tbody>\n",
              "    <tr>\n",
              "      <th>count</th>\n",
              "      <td>10999.000000</td>\n",
              "      <td>10999.000000</td>\n",
              "      <td>10999.000000</td>\n",
              "    </tr>\n",
              "    <tr>\n",
              "      <th>mean</th>\n",
              "      <td>210.196836</td>\n",
              "      <td>13.373216</td>\n",
              "      <td>3634.016729</td>\n",
              "    </tr>\n",
              "    <tr>\n",
              "      <th>std</th>\n",
              "      <td>48.063272</td>\n",
              "      <td>16.205527</td>\n",
              "      <td>1635.377251</td>\n",
              "    </tr>\n",
              "    <tr>\n",
              "      <th>min</th>\n",
              "      <td>96.000000</td>\n",
              "      <td>1.000000</td>\n",
              "      <td>1001.000000</td>\n",
              "    </tr>\n",
              "    <tr>\n",
              "      <th>25%</th>\n",
              "      <td>169.000000</td>\n",
              "      <td>4.000000</td>\n",
              "      <td>1839.500000</td>\n",
              "    </tr>\n",
              "    <tr>\n",
              "      <th>50%</th>\n",
              "      <td>214.000000</td>\n",
              "      <td>7.000000</td>\n",
              "      <td>4149.000000</td>\n",
              "    </tr>\n",
              "    <tr>\n",
              "      <th>75%</th>\n",
              "      <td>251.000000</td>\n",
              "      <td>10.000000</td>\n",
              "      <td>5050.000000</td>\n",
              "    </tr>\n",
              "    <tr>\n",
              "      <th>max</th>\n",
              "      <td>310.000000</td>\n",
              "      <td>65.000000</td>\n",
              "      <td>7846.000000</td>\n",
              "    </tr>\n",
              "  </tbody>\n",
              "</table>\n",
              "</div>\n",
              "      <button class=\"colab-df-convert\" onclick=\"convertToInteractive('df-a637a051-185c-4f09-8bae-ee8de4bd792c')\"\n",
              "              title=\"Convert this dataframe to an interactive table.\"\n",
              "              style=\"display:none;\">\n",
              "        \n",
              "  <svg xmlns=\"http://www.w3.org/2000/svg\" height=\"24px\"viewBox=\"0 0 24 24\"\n",
              "       width=\"24px\">\n",
              "    <path d=\"M0 0h24v24H0V0z\" fill=\"none\"/>\n",
              "    <path d=\"M18.56 5.44l.94 2.06.94-2.06 2.06-.94-2.06-.94-.94-2.06-.94 2.06-2.06.94zm-11 1L8.5 8.5l.94-2.06 2.06-.94-2.06-.94L8.5 2.5l-.94 2.06-2.06.94zm10 10l.94 2.06.94-2.06 2.06-.94-2.06-.94-.94-2.06-.94 2.06-2.06.94z\"/><path d=\"M17.41 7.96l-1.37-1.37c-.4-.4-.92-.59-1.43-.59-.52 0-1.04.2-1.43.59L10.3 9.45l-7.72 7.72c-.78.78-.78 2.05 0 2.83L4 21.41c.39.39.9.59 1.41.59.51 0 1.02-.2 1.41-.59l7.78-7.78 2.81-2.81c.8-.78.8-2.07 0-2.86zM5.41 20L4 18.59l7.72-7.72 1.47 1.35L5.41 20z\"/>\n",
              "  </svg>\n",
              "      </button>\n",
              "      \n",
              "  <style>\n",
              "    .colab-df-container {\n",
              "      display:flex;\n",
              "      flex-wrap:wrap;\n",
              "      gap: 12px;\n",
              "    }\n",
              "\n",
              "    .colab-df-convert {\n",
              "      background-color: #E8F0FE;\n",
              "      border: none;\n",
              "      border-radius: 50%;\n",
              "      cursor: pointer;\n",
              "      display: none;\n",
              "      fill: #1967D2;\n",
              "      height: 32px;\n",
              "      padding: 0 0 0 0;\n",
              "      width: 32px;\n",
              "    }\n",
              "\n",
              "    .colab-df-convert:hover {\n",
              "      background-color: #E2EBFA;\n",
              "      box-shadow: 0px 1px 2px rgba(60, 64, 67, 0.3), 0px 1px 3px 1px rgba(60, 64, 67, 0.15);\n",
              "      fill: #174EA6;\n",
              "    }\n",
              "\n",
              "    [theme=dark] .colab-df-convert {\n",
              "      background-color: #3B4455;\n",
              "      fill: #D2E3FC;\n",
              "    }\n",
              "\n",
              "    [theme=dark] .colab-df-convert:hover {\n",
              "      background-color: #434B5C;\n",
              "      box-shadow: 0px 1px 3px 1px rgba(0, 0, 0, 0.15);\n",
              "      filter: drop-shadow(0px 1px 2px rgba(0, 0, 0, 0.3));\n",
              "      fill: #FFFFFF;\n",
              "    }\n",
              "  </style>\n",
              "\n",
              "      <script>\n",
              "        const buttonEl =\n",
              "          document.querySelector('#df-a637a051-185c-4f09-8bae-ee8de4bd792c button.colab-df-convert');\n",
              "        buttonEl.style.display =\n",
              "          google.colab.kernel.accessAllowed ? 'block' : 'none';\n",
              "\n",
              "        async function convertToInteractive(key) {\n",
              "          const element = document.querySelector('#df-a637a051-185c-4f09-8bae-ee8de4bd792c');\n",
              "          const dataTable =\n",
              "            await google.colab.kernel.invokeFunction('convertToInteractive',\n",
              "                                                     [key], {});\n",
              "          if (!dataTable) return;\n",
              "\n",
              "          const docLinkHtml = 'Like what you see? Visit the ' +\n",
              "            '<a target=\"_blank\" href=https://colab.research.google.com/notebooks/data_table.ipynb>data table notebook</a>'\n",
              "            + ' to learn more about interactive tables.';\n",
              "          element.innerHTML = '';\n",
              "          dataTable['output_type'] = 'display_data';\n",
              "          await google.colab.output.renderOutput(dataTable, element);\n",
              "          const docLink = document.createElement('div');\n",
              "          docLink.innerHTML = docLinkHtml;\n",
              "          element.appendChild(docLink);\n",
              "        }\n",
              "      </script>\n",
              "    </div>\n",
              "  </div>\n",
              "  "
            ]
          },
          "metadata": {},
          "execution_count": 12
        }
      ]
    },
    {
      "cell_type": "code",
      "source": [
        "# categorical columns \n",
        "df[cats].describe()"
      ],
      "metadata": {
        "colab": {
          "base_uri": "https://localhost:8080/",
          "height": 300
        },
        "id": "T2xvE3XGgMxi",
        "outputId": "c72b0655-ffa7-40ba-a41b-df7fe0af965b"
      },
      "execution_count": null,
      "outputs": [
        {
          "output_type": "execute_result",
          "data": {
            "text/plain": [
              "       Customer_care_calls  Customer_rating  Prior_purchases\n",
              "count         10999.000000     10999.000000     10999.000000\n",
              "mean              4.054459         2.990545         3.567597\n",
              "std               1.141490         1.413603         1.522860\n",
              "min               2.000000         1.000000         2.000000\n",
              "25%               3.000000         2.000000         3.000000\n",
              "50%               4.000000         3.000000         3.000000\n",
              "75%               5.000000         4.000000         4.000000\n",
              "max               7.000000         5.000000        10.000000"
            ],
            "text/html": [
              "\n",
              "  <div id=\"df-437344b9-b078-4d82-862b-96b22f56c71e\">\n",
              "    <div class=\"colab-df-container\">\n",
              "      <div>\n",
              "<style scoped>\n",
              "    .dataframe tbody tr th:only-of-type {\n",
              "        vertical-align: middle;\n",
              "    }\n",
              "\n",
              "    .dataframe tbody tr th {\n",
              "        vertical-align: top;\n",
              "    }\n",
              "\n",
              "    .dataframe thead th {\n",
              "        text-align: right;\n",
              "    }\n",
              "</style>\n",
              "<table border=\"1\" class=\"dataframe\">\n",
              "  <thead>\n",
              "    <tr style=\"text-align: right;\">\n",
              "      <th></th>\n",
              "      <th>Customer_care_calls</th>\n",
              "      <th>Customer_rating</th>\n",
              "      <th>Prior_purchases</th>\n",
              "    </tr>\n",
              "  </thead>\n",
              "  <tbody>\n",
              "    <tr>\n",
              "      <th>count</th>\n",
              "      <td>10999.000000</td>\n",
              "      <td>10999.000000</td>\n",
              "      <td>10999.000000</td>\n",
              "    </tr>\n",
              "    <tr>\n",
              "      <th>mean</th>\n",
              "      <td>4.054459</td>\n",
              "      <td>2.990545</td>\n",
              "      <td>3.567597</td>\n",
              "    </tr>\n",
              "    <tr>\n",
              "      <th>std</th>\n",
              "      <td>1.141490</td>\n",
              "      <td>1.413603</td>\n",
              "      <td>1.522860</td>\n",
              "    </tr>\n",
              "    <tr>\n",
              "      <th>min</th>\n",
              "      <td>2.000000</td>\n",
              "      <td>1.000000</td>\n",
              "      <td>2.000000</td>\n",
              "    </tr>\n",
              "    <tr>\n",
              "      <th>25%</th>\n",
              "      <td>3.000000</td>\n",
              "      <td>2.000000</td>\n",
              "      <td>3.000000</td>\n",
              "    </tr>\n",
              "    <tr>\n",
              "      <th>50%</th>\n",
              "      <td>4.000000</td>\n",
              "      <td>3.000000</td>\n",
              "      <td>3.000000</td>\n",
              "    </tr>\n",
              "    <tr>\n",
              "      <th>75%</th>\n",
              "      <td>5.000000</td>\n",
              "      <td>4.000000</td>\n",
              "      <td>4.000000</td>\n",
              "    </tr>\n",
              "    <tr>\n",
              "      <th>max</th>\n",
              "      <td>7.000000</td>\n",
              "      <td>5.000000</td>\n",
              "      <td>10.000000</td>\n",
              "    </tr>\n",
              "  </tbody>\n",
              "</table>\n",
              "</div>\n",
              "      <button class=\"colab-df-convert\" onclick=\"convertToInteractive('df-437344b9-b078-4d82-862b-96b22f56c71e')\"\n",
              "              title=\"Convert this dataframe to an interactive table.\"\n",
              "              style=\"display:none;\">\n",
              "        \n",
              "  <svg xmlns=\"http://www.w3.org/2000/svg\" height=\"24px\"viewBox=\"0 0 24 24\"\n",
              "       width=\"24px\">\n",
              "    <path d=\"M0 0h24v24H0V0z\" fill=\"none\"/>\n",
              "    <path d=\"M18.56 5.44l.94 2.06.94-2.06 2.06-.94-2.06-.94-.94-2.06-.94 2.06-2.06.94zm-11 1L8.5 8.5l.94-2.06 2.06-.94-2.06-.94L8.5 2.5l-.94 2.06-2.06.94zm10 10l.94 2.06.94-2.06 2.06-.94-2.06-.94-.94-2.06-.94 2.06-2.06.94z\"/><path d=\"M17.41 7.96l-1.37-1.37c-.4-.4-.92-.59-1.43-.59-.52 0-1.04.2-1.43.59L10.3 9.45l-7.72 7.72c-.78.78-.78 2.05 0 2.83L4 21.41c.39.39.9.59 1.41.59.51 0 1.02-.2 1.41-.59l7.78-7.78 2.81-2.81c.8-.78.8-2.07 0-2.86zM5.41 20L4 18.59l7.72-7.72 1.47 1.35L5.41 20z\"/>\n",
              "  </svg>\n",
              "      </button>\n",
              "      \n",
              "  <style>\n",
              "    .colab-df-container {\n",
              "      display:flex;\n",
              "      flex-wrap:wrap;\n",
              "      gap: 12px;\n",
              "    }\n",
              "\n",
              "    .colab-df-convert {\n",
              "      background-color: #E8F0FE;\n",
              "      border: none;\n",
              "      border-radius: 50%;\n",
              "      cursor: pointer;\n",
              "      display: none;\n",
              "      fill: #1967D2;\n",
              "      height: 32px;\n",
              "      padding: 0 0 0 0;\n",
              "      width: 32px;\n",
              "    }\n",
              "\n",
              "    .colab-df-convert:hover {\n",
              "      background-color: #E2EBFA;\n",
              "      box-shadow: 0px 1px 2px rgba(60, 64, 67, 0.3), 0px 1px 3px 1px rgba(60, 64, 67, 0.15);\n",
              "      fill: #174EA6;\n",
              "    }\n",
              "\n",
              "    [theme=dark] .colab-df-convert {\n",
              "      background-color: #3B4455;\n",
              "      fill: #D2E3FC;\n",
              "    }\n",
              "\n",
              "    [theme=dark] .colab-df-convert:hover {\n",
              "      background-color: #434B5C;\n",
              "      box-shadow: 0px 1px 3px 1px rgba(0, 0, 0, 0.15);\n",
              "      filter: drop-shadow(0px 1px 2px rgba(0, 0, 0, 0.3));\n",
              "      fill: #FFFFFF;\n",
              "    }\n",
              "  </style>\n",
              "\n",
              "      <script>\n",
              "        const buttonEl =\n",
              "          document.querySelector('#df-437344b9-b078-4d82-862b-96b22f56c71e button.colab-df-convert');\n",
              "        buttonEl.style.display =\n",
              "          google.colab.kernel.accessAllowed ? 'block' : 'none';\n",
              "\n",
              "        async function convertToInteractive(key) {\n",
              "          const element = document.querySelector('#df-437344b9-b078-4d82-862b-96b22f56c71e');\n",
              "          const dataTable =\n",
              "            await google.colab.kernel.invokeFunction('convertToInteractive',\n",
              "                                                     [key], {});\n",
              "          if (!dataTable) return;\n",
              "\n",
              "          const docLinkHtml = 'Like what you see? Visit the ' +\n",
              "            '<a target=\"_blank\" href=https://colab.research.google.com/notebooks/data_table.ipynb>data table notebook</a>'\n",
              "            + ' to learn more about interactive tables.';\n",
              "          element.innerHTML = '';\n",
              "          dataTable['output_type'] = 'display_data';\n",
              "          await google.colab.output.renderOutput(dataTable, element);\n",
              "          const docLink = document.createElement('div');\n",
              "          docLink.innerHTML = docLinkHtml;\n",
              "          element.appendChild(docLink);\n",
              "        }\n",
              "      </script>\n",
              "    </div>\n",
              "  </div>\n",
              "  "
            ]
          },
          "metadata": {},
          "execution_count": 13
        }
      ]
    },
    {
      "cell_type": "markdown",
      "source": [
        "# Univariate Analysis"
      ],
      "metadata": {
        "id": "UaYHtjNkURqS"
      }
    },
    {
      "cell_type": "markdown",
      "source": [
        "## Count Plot (Categorical)"
      ],
      "metadata": {
        "id": "upPnZMbQUtrO"
      }
    },
    {
      "cell_type": "code",
      "source": [
        "plt.figure(figsize=(20, 10))\n",
        "for i in range(0, len(cats)):\n",
        "    plt.subplot(2, 4, i+1)\n",
        "    sns.countplot(x = df[cats[i]], orient='v', hue=df['Reached.on.Time_Y.N'])\n",
        "    plt.tight_layout()"
      ],
      "metadata": {
        "colab": {
          "base_uri": "https://localhost:8080/",
          "height": 636
        },
        "id": "3q7wtb1PMYC7",
        "outputId": "14b55ca9-9c43-401d-c82b-80bc3b6fe909"
      },
      "execution_count": null,
      "outputs": [
        {
          "output_type": "display_data",
          "data": {
            "text/plain": [
              "<Figure size 1440x720 with 7 Axes>"
            ],
            "image/png": "[encoded data removed]"
          },
          "metadata": {
            "needs_background": "light"
          }
        }
      ]
    },
    {
      "cell_type": "code",
      "source": [
        ""
      ],
      "metadata": {
        "id": "bTsrL1VnyWlS"
      },
      "execution_count": null,
      "outputs": []
    },
    {
      "cell_type": "markdown",
      "source": [
        "## Dist Plot (Numerical)"
      ],
      "metadata": {
        "id": "Y76GBxXiU4_O"
      }
    },
    {
      "cell_type": "code",
      "source": [
        "features = nums\n",
        "plt.figure(figsize=(20, 10))\n",
        "for i in range(0, len(nums)):\n",
        "    plt.subplot(2, 4, i+1)\n",
        "    sns.kdeplot(x=df[features[i]], color='green', hue=df['Reached.on.Time_Y.N'])\n",
        "    plt.xlabel(features[i])\n",
        "    plt.tight_layout()"
      ],
      "metadata": {
        "colab": {
          "base_uri": "https://localhost:8080/",
          "height": 393
        },
        "id": "swIi3byDM2CI",
        "outputId": "d3f060d5-7ad7-4f26-88ff-ce5b44398e40"
      },
      "execution_count": null,
      "outputs": [
        {
          "output_type": "display_data",
          "data": {
            "text/plain": [
              "<Figure size 1440x720 with 3 Axes>"
            ],
            "image/png": "[encoded data removed]"
          },
          "metadata": {
            "needs_background": "light"
          }
        }
      ]
    },
    {
      "cell_type": "markdown",
      "source": [
        "## Boxplot"
      ],
      "metadata": {
        "id": "76ZuVxD-UWBK"
      }
    },
    {
      "cell_type": "code",
      "source": [
        "features = ['Cost_of_the_Product','Discount_offered','Weight_in_gms','Prior_purchases']\n",
        "for i in range(0, len(features)):\n",
        "    plt.subplot(1, len(features), i+1)\n",
        "    sns.boxplot(y=df[features[i]], color='green',orient='v')\n",
        "    plt.tight_layout()"
      ],
      "metadata": {
        "colab": {
          "base_uri": "https://localhost:8080/",
          "height": 297
        },
        "id": "boxkkCjRUXZ1",
        "outputId": "971b5c89-6aa0-4fb4-9027-e826148565d5"
      },
      "execution_count": null,
      "outputs": [
        {
          "output_type": "display_data",
          "data": {
            "text/plain": [
              "<Figure size 864x288 with 4 Axes>"
            ],
            "image/png": "[encoded data removed]"
          },
          "metadata": {
            "needs_background": "light"
          }
        }
      ]
    },
    {
      "cell_type": "markdown",
      "source": [
        "##FEATURE TRANSFORMATION"
      ],
      "metadata": {
        "id": "ezc6XQPjZWQl"
      }
    },
    {
      "cell_type": "code",
      "source": [
        "from scipy.stats import boxcox\n",
        "\n",
        "#TRANSFORMASI LOG UNTUK FEATURE Discount_offered MENGGUNAKAN BOXCOX\n",
        "df['bc0_discount'] = boxcox(df['Discount_offered'],0)\n",
        "#TRANSFORMASI SQUARE UNTUK FEATURE Weight_in_gms MENGGUNAKAN BOXCOX\n",
        "df['bc2_weight'] = boxcox(df['Weight_in_gms'],2)\n",
        "df.describe()"
      ],
      "metadata": {
        "colab": {
          "base_uri": "https://localhost:8080/",
          "height": 364
        },
        "id": "FIPuCjEVZT7K",
        "outputId": "0e42de59-6624-4091-cdd0-f9b773d9768e"
      },
      "execution_count": null,
      "outputs": [
        {
          "output_type": "execute_result",
          "data": {
            "text/plain": [
              "                ID  Customer_care_calls  Customer_rating  Cost_of_the_Product  \\\n",
              "count  10999.00000         10999.000000     10999.000000         10999.000000   \n",
              "mean    5500.00000             4.054459         2.990545           210.196836   \n",
              "std     3175.28214             1.141490         1.413603            48.063272   \n",
              "min        1.00000             2.000000         1.000000            96.000000   \n",
              "25%     2750.50000             3.000000         2.000000           169.000000   \n",
              "50%     5500.00000             4.000000         3.000000           214.000000   \n",
              "75%     8249.50000             5.000000         4.000000           251.000000   \n",
              "max    10999.00000             7.000000         5.000000           310.000000   \n",
              "\n",
              "       Prior_purchases  Discount_offered  Weight_in_gms  Reached.on.Time_Y.N  \\\n",
              "count     10999.000000      10999.000000   10999.000000         10999.000000   \n",
              "mean          3.567597         13.373216    3634.016729             0.596691   \n",
              "std           1.522860         16.205527    1635.377251             0.490584   \n",
              "min           2.000000          1.000000    1001.000000             0.000000   \n",
              "25%           3.000000          4.000000    1839.500000             0.000000   \n",
              "50%           3.000000          7.000000    4149.000000             1.000000   \n",
              "75%           4.000000         10.000000    5050.000000             1.000000   \n",
              "max          10.000000         65.000000    7846.000000             1.000000   \n",
              "\n",
              "       bc0_discount    bc2_weight  \n",
              "count  10999.000000  1.099900e+04  \n",
              "mean       1.998420  7.940146e+06  \n",
              "std        1.083692  5.686657e+06  \n",
              "min        0.000000  5.010000e+05  \n",
              "25%        1.386294  1.691880e+06  \n",
              "50%        1.945910  8.607100e+06  \n",
              "75%        2.302585  1.275125e+07  \n",
              "max        4.174387  3.077986e+07  "
            ],
            "text/html": [
              "\n",
              "  <div id=\"df-236ae9e1-7aa2-4e21-930b-1d19214c6263\">\n",
              "    <div class=\"colab-df-container\">\n",
              "      <div>\n",
              "<style scoped>\n",
              "    .dataframe tbody tr th:only-of-type {\n",
              "        vertical-align: middle;\n",
              "    }\n",
              "\n",
              "    .dataframe tbody tr th {\n",
              "        vertical-align: top;\n",
              "    }\n",
              "\n",
              "    .dataframe thead th {\n",
              "        text-align: right;\n",
              "    }\n",
              "</style>\n",
              "<table border=\"1\" class=\"dataframe\">\n",
              "  <thead>\n",
              "    <tr style=\"text-align: right;\">\n",
              "      <th></th>\n",
              "      <th>ID</th>\n",
              "      <th>Customer_care_calls</th>\n",
              "      <th>Customer_rating</th>\n",
              "      <th>Cost_of_the_Product</th>\n",
              "      <th>Prior_purchases</th>\n",
              "      <th>Discount_offered</th>\n",
              "      <th>Weight_in_gms</th>\n",
              "      <th>Reached.on.Time_Y.N</th>\n",
              "      <th>bc0_discount</th>\n",
              "      <th>bc2_weight</th>\n",
              "    </tr>\n",
              "  </thead>\n",
              "  <tbody>\n",
              "    <tr>\n",
              "      <th>count</th>\n",
              "      <td>10999.00000</td>\n",
              "      <td>10999.000000</td>\n",
              "      <td>10999.000000</td>\n",
              "      <td>10999.000000</td>\n",
              "      <td>10999.000000</td>\n",
              "      <td>10999.000000</td>\n",
              "      <td>10999.000000</td>\n",
              "      <td>10999.000000</td>\n",
              "      <td>10999.000000</td>\n",
              "      <td>1.099900e+04</td>\n",
              "    </tr>\n",
              "    <tr>\n",
              "      <th>mean</th>\n",
              "      <td>5500.00000</td>\n",
              "      <td>4.054459</td>\n",
              "      <td>2.990545</td>\n",
              "      <td>210.196836</td>\n",
              "      <td>3.567597</td>\n",
              "      <td>13.373216</td>\n",
              "      <td>3634.016729</td>\n",
              "      <td>0.596691</td>\n",
              "      <td>1.998420</td>\n",
              "      <td>7.940146e+06</td>\n",
              "    </tr>\n",
              "    <tr>\n",
              "      <th>std</th>\n",
              "      <td>3175.28214</td>\n",
              "      <td>1.141490</td>\n",
              "      <td>1.413603</td>\n",
              "      <td>48.063272</td>\n",
              "      <td>1.522860</td>\n",
              "      <td>16.205527</td>\n",
              "      <td>1635.377251</td>\n",
              "      <td>0.490584</td>\n",
              "      <td>1.083692</td>\n",
              "      <td>5.686657e+06</td>\n",
              "    </tr>\n",
              "    <tr>\n",
              "      <th>min</th>\n",
              "      <td>1.00000</td>\n",
              "      <td>2.000000</td>\n",
              "      <td>1.000000</td>\n",
              "      <td>96.000000</td>\n",
              "      <td>2.000000</td>\n",
              "      <td>1.000000</td>\n",
              "      <td>1001.000000</td>\n",
              "      <td>0.000000</td>\n",
              "      <td>0.000000</td>\n",
              "      <td>5.010000e+05</td>\n",
              "    </tr>\n",
              "    <tr>\n",
              "      <th>25%</th>\n",
              "      <td>2750.50000</td>\n",
              "      <td>3.000000</td>\n",
              "      <td>2.000000</td>\n",
              "      <td>169.000000</td>\n",
              "      <td>3.000000</td>\n",
              "      <td>4.000000</td>\n",
              "      <td>1839.500000</td>\n",
              "      <td>0.000000</td>\n",
              "      <td>1.386294</td>\n",
              "      <td>1.691880e+06</td>\n",
              "    </tr>\n",
              "    <tr>\n",
              "      <th>50%</th>\n",
              "      <td>5500.00000</td>\n",
              "      <td>4.000000</td>\n",
              "      <td>3.000000</td>\n",
              "      <td>214.000000</td>\n",
              "      <td>3.000000</td>\n",
              "      <td>7.000000</td>\n",
              "      <td>4149.000000</td>\n",
              "      <td>1.000000</td>\n",
              "      <td>1.945910</td>\n",
              "      <td>8.607100e+06</td>\n",
              "    </tr>\n",
              "    <tr>\n",
              "      <th>75%</th>\n",
              "      <td>8249.50000</td>\n",
              "      <td>5.000000</td>\n",
              "      <td>4.000000</td>\n",
              "      <td>251.000000</td>\n",
              "      <td>4.000000</td>\n",
              "      <td>10.000000</td>\n",
              "      <td>5050.000000</td>\n",
              "      <td>1.000000</td>\n",
              "      <td>2.302585</td>\n",
              "      <td>1.275125e+07</td>\n",
              "    </tr>\n",
              "    <tr>\n",
              "      <th>max</th>\n",
              "      <td>10999.00000</td>\n",
              "      <td>7.000000</td>\n",
              "      <td>5.000000</td>\n",
              "      <td>310.000000</td>\n",
              "      <td>10.000000</td>\n",
              "      <td>65.000000</td>\n",
              "      <td>7846.000000</td>\n",
              "      <td>1.000000</td>\n",
              "      <td>4.174387</td>\n",
              "      <td>3.077986e+07</td>\n",
              "    </tr>\n",
              "  </tbody>\n",
              "</table>\n",
              "</div>\n",
              "      <button class=\"colab-df-convert\" onclick=\"convertToInteractive('df-236ae9e1-7aa2-4e21-930b-1d19214c6263')\"\n",
              "              title=\"Convert this dataframe to an interactive table.\"\n",
              "              style=\"display:none;\">\n",
              "        \n",
              "  <svg xmlns=\"http://www.w3.org/2000/svg\" height=\"24px\"viewBox=\"0 0 24 24\"\n",
              "       width=\"24px\">\n",
              "    <path d=\"M0 0h24v24H0V0z\" fill=\"none\"/>\n",
              "    <path d=\"M18.56 5.44l.94 2.06.94-2.06 2.06-.94-2.06-.94-.94-2.06-.94 2.06-2.06.94zm-11 1L8.5 8.5l.94-2.06 2.06-.94-2.06-.94L8.5 2.5l-.94 2.06-2.06.94zm10 10l.94 2.06.94-2.06 2.06-.94-2.06-.94-.94-2.06-.94 2.06-2.06.94z\"/><path d=\"M17.41 7.96l-1.37-1.37c-.4-.4-.92-.59-1.43-.59-.52 0-1.04.2-1.43.59L10.3 9.45l-7.72 7.72c-.78.78-.78 2.05 0 2.83L4 21.41c.39.39.9.59 1.41.59.51 0 1.02-.2 1.41-.59l7.78-7.78 2.81-2.81c.8-.78.8-2.07 0-2.86zM5.41 20L4 18.59l7.72-7.72 1.47 1.35L5.41 20z\"/>\n",
              "  </svg>\n",
              "      </button>\n",
              "      \n",
              "  <style>\n",
              "    .colab-df-container {\n",
              "      display:flex;\n",
              "      flex-wrap:wrap;\n",
              "      gap: 12px;\n",
              "    }\n",
              "\n",
              "    .colab-df-convert {\n",
              "      background-color: #E8F0FE;\n",
              "      border: none;\n",
              "      border-radius: 50%;\n",
              "      cursor: pointer;\n",
              "      display: none;\n",
              "      fill: #1967D2;\n",
              "      height: 32px;\n",
              "      padding: 0 0 0 0;\n",
              "      width: 32px;\n",
              "    }\n",
              "\n",
              "    .colab-df-convert:hover {\n",
              "      background-color: #E2EBFA;\n",
              "      box-shadow: 0px 1px 2px rgba(60, 64, 67, 0.3), 0px 1px 3px 1px rgba(60, 64, 67, 0.15);\n",
              "      fill: #174EA6;\n",
              "    }\n",
              "\n",
              "    [theme=dark] .colab-df-convert {\n",
              "      background-color: #3B4455;\n",
              "      fill: #D2E3FC;\n",
              "    }\n",
              "\n",
              "    [theme=dark] .colab-df-convert:hover {\n",
              "      background-color: #434B5C;\n",
              "      box-shadow: 0px 1px 3px 1px rgba(0, 0, 0, 0.15);\n",
              "      filter: drop-shadow(0px 1px 2px rgba(0, 0, 0, 0.3));\n",
              "      fill: #FFFFFF;\n",
              "    }\n",
              "  </style>\n",
              "\n",
              "      <script>\n",
              "        const buttonEl =\n",
              "          document.querySelector('#df-236ae9e1-7aa2-4e21-930b-1d19214c6263 button.colab-df-convert');\n",
              "        buttonEl.style.display =\n",
              "          google.colab.kernel.accessAllowed ? 'block' : 'none';\n",
              "\n",
              "        async function convertToInteractive(key) {\n",
              "          const element = document.querySelector('#df-236ae9e1-7aa2-4e21-930b-1d19214c6263');\n",
              "          const dataTable =\n",
              "            await google.colab.kernel.invokeFunction('convertToInteractive',\n",
              "                                                     [key], {});\n",
              "          if (!dataTable) return;\n",
              "\n",
              "          const docLinkHtml = 'Like what you see? Visit the ' +\n",
              "            '<a target=\"_blank\" href=https://colab.research.google.com/notebooks/data_table.ipynb>data table notebook</a>'\n",
              "            + ' to learn more about interactive tables.';\n",
              "          element.innerHTML = '';\n",
              "          dataTable['output_type'] = 'display_data';\n",
              "          await google.colab.output.renderOutput(dataTable, element);\n",
              "          const docLink = document.createElement('div');\n",
              "          docLink.innerHTML = docLinkHtml;\n",
              "          element.appendChild(docLink);\n",
              "        }\n",
              "      </script>\n",
              "    </div>\n",
              "  </div>\n",
              "  "
            ]
          },
          "metadata": {},
          "execution_count": 17
        }
      ]
    },
    {
      "cell_type": "markdown",
      "source": [
        "###STANDARISASI"
      ],
      "metadata": {
        "id": "cUVDfRO1gQNk"
      }
    },
    {
      "cell_type": "code",
      "source": [
        "from sklearn.preprocessing import MinMaxScaler, StandardScaler"
      ],
      "metadata": {
        "id": "NbbsutAcgPS5"
      },
      "execution_count": null,
      "outputs": []
    },
    {
      "cell_type": "code",
      "source": [
        "df['bc0_discount_std']=StandardScaler().fit_transform((df['bc0_discount']).values.reshape(len(df), 1))\n",
        "df['bc2_weight_std']=StandardScaler().fit_transform((df['bc2_weight']).values.reshape(len(df), 1))\n",
        "df['Cost_of_the_Product_std']=StandardScaler().fit_transform((df['Cost_of_the_Product']).values.reshape(len(df), 1))"
      ],
      "metadata": {
        "id": "WJsbdJzrgVAk"
      },
      "execution_count": null,
      "outputs": []
    },
    {
      "cell_type": "code",
      "source": [
        "df.agg(['skew']).transpose()"
      ],
      "metadata": {
        "colab": {
          "base_uri": "https://localhost:8080/",
          "height": 457
        },
        "id": "K3xbvfSqdYWZ",
        "outputId": "6e0a0524-f4fd-4049-fb81-57ac7b7cb7bf"
      },
      "execution_count": null,
      "outputs": [
        {
          "output_type": "execute_result",
          "data": {
            "text/plain": [
              "                             skew\n",
              "ID                       0.000000\n",
              "Customer_care_calls      0.391926\n",
              "Customer_rating          0.004360\n",
              "Cost_of_the_Product     -0.157117\n",
              "Prior_purchases          1.681897\n",
              "Discount_offered         1.798929\n",
              "Weight_in_gms           -0.249747\n",
              "Reached.on.Time_Y.N     -0.394257\n",
              "bc0_discount             0.218223\n",
              "bc2_weight               0.114394\n",
              "bc0_discount_std         0.218223\n",
              "bc2_weight_std           0.114394\n",
              "Cost_of_the_Product_std -0.157117"
            ],
            "text/html": [
              "\n",
              "  <div id=\"df-7bbd5d9c-7309-46e2-9de9-baac05c7824f\">\n",
              "    <div class=\"colab-df-container\">\n",
              "      <div>\n",
              "<style scoped>\n",
              "    .dataframe tbody tr th:only-of-type {\n",
              "        vertical-align: middle;\n",
              "    }\n",
              "\n",
              "    .dataframe tbody tr th {\n",
              "        vertical-align: top;\n",
              "    }\n",
              "\n",
              "    .dataframe thead th {\n",
              "        text-align: right;\n",
              "    }\n",
              "</style>\n",
              "<table border=\"1\" class=\"dataframe\">\n",
              "  <thead>\n",
              "    <tr style=\"text-align: right;\">\n",
              "      <th></th>\n",
              "      <th>skew</th>\n",
              "    </tr>\n",
              "  </thead>\n",
              "  <tbody>\n",
              "    <tr>\n",
              "      <th>ID</th>\n",
              "      <td>0.000000</td>\n",
              "    </tr>\n",
              "    <tr>\n",
              "      <th>Customer_care_calls</th>\n",
              "      <td>0.391926</td>\n",
              "    </tr>\n",
              "    <tr>\n",
              "      <th>Customer_rating</th>\n",
              "      <td>0.004360</td>\n",
              "    </tr>\n",
              "    <tr>\n",
              "      <th>Cost_of_the_Product</th>\n",
              "      <td>-0.157117</td>\n",
              "    </tr>\n",
              "    <tr>\n",
              "      <th>Prior_purchases</th>\n",
              "      <td>1.681897</td>\n",
              "    </tr>\n",
              "    <tr>\n",
              "      <th>Discount_offered</th>\n",
              "      <td>1.798929</td>\n",
              "    </tr>\n",
              "    <tr>\n",
              "      <th>Weight_in_gms</th>\n",
              "      <td>-0.249747</td>\n",
              "    </tr>\n",
              "    <tr>\n",
              "      <th>Reached.on.Time_Y.N</th>\n",
              "      <td>-0.394257</td>\n",
              "    </tr>\n",
              "    <tr>\n",
              "      <th>bc0_discount</th>\n",
              "      <td>0.218223</td>\n",
              "    </tr>\n",
              "    <tr>\n",
              "      <th>bc2_weight</th>\n",
              "      <td>0.114394</td>\n",
              "    </tr>\n",
              "    <tr>\n",
              "      <th>bc0_discount_std</th>\n",
              "      <td>0.218223</td>\n",
              "    </tr>\n",
              "    <tr>\n",
              "      <th>bc2_weight_std</th>\n",
              "      <td>0.114394</td>\n",
              "    </tr>\n",
              "    <tr>\n",
              "      <th>Cost_of_the_Product_std</th>\n",
              "      <td>-0.157117</td>\n",
              "    </tr>\n",
              "  </tbody>\n",
              "</table>\n",
              "</div>\n",
              "      <button class=\"colab-df-convert\" onclick=\"convertToInteractive('df-7bbd5d9c-7309-46e2-9de9-baac05c7824f')\"\n",
              "              title=\"Convert this dataframe to an interactive table.\"\n",
              "              style=\"display:none;\">\n",
              "        \n",
              "  <svg xmlns=\"http://www.w3.org/2000/svg\" height=\"24px\"viewBox=\"0 0 24 24\"\n",
              "       width=\"24px\">\n",
              "    <path d=\"M0 0h24v24H0V0z\" fill=\"none\"/>\n",
              "    <path d=\"M18.56 5.44l.94 2.06.94-2.06 2.06-.94-2.06-.94-.94-2.06-.94 2.06-2.06.94zm-11 1L8.5 8.5l.94-2.06 2.06-.94-2.06-.94L8.5 2.5l-.94 2.06-2.06.94zm10 10l.94 2.06.94-2.06 2.06-.94-2.06-.94-.94-2.06-.94 2.06-2.06.94z\"/><path d=\"M17.41 7.96l-1.37-1.37c-.4-.4-.92-.59-1.43-.59-.52 0-1.04.2-1.43.59L10.3 9.45l-7.72 7.72c-.78.78-.78 2.05 0 2.83L4 21.41c.39.39.9.59 1.41.59.51 0 1.02-.2 1.41-.59l7.78-7.78 2.81-2.81c.8-.78.8-2.07 0-2.86zM5.41 20L4 18.59l7.72-7.72 1.47 1.35L5.41 20z\"/>\n",
              "  </svg>\n",
              "      </button>\n",
              "      \n",
              "  <style>\n",
              "    .colab-df-container {\n",
              "      display:flex;\n",
              "      flex-wrap:wrap;\n",
              "      gap: 12px;\n",
              "    }\n",
              "\n",
              "    .colab-df-convert {\n",
              "      background-color: #E8F0FE;\n",
              "      border: none;\n",
              "      border-radius: 50%;\n",
              "      cursor: pointer;\n",
              "      display: none;\n",
              "      fill: #1967D2;\n",
              "      height: 32px;\n",
              "      padding: 0 0 0 0;\n",
              "      width: 32px;\n",
              "    }\n",
              "\n",
              "    .colab-df-convert:hover {\n",
              "      background-color: #E2EBFA;\n",
              "      box-shadow: 0px 1px 2px rgba(60, 64, 67, 0.3), 0px 1px 3px 1px rgba(60, 64, 67, 0.15);\n",
              "      fill: #174EA6;\n",
              "    }\n",
              "\n",
              "    [theme=dark] .colab-df-convert {\n",
              "      background-color: #3B4455;\n",
              "      fill: #D2E3FC;\n",
              "    }\n",
              "\n",
              "    [theme=dark] .colab-df-convert:hover {\n",
              "      background-color: #434B5C;\n",
              "      box-shadow: 0px 1px 3px 1px rgba(0, 0, 0, 0.15);\n",
              "      filter: drop-shadow(0px 1px 2px rgba(0, 0, 0, 0.3));\n",
              "      fill: #FFFFFF;\n",
              "    }\n",
              "  </style>\n",
              "\n",
              "      <script>\n",
              "        const buttonEl =\n",
              "          document.querySelector('#df-7bbd5d9c-7309-46e2-9de9-baac05c7824f button.colab-df-convert');\n",
              "        buttonEl.style.display =\n",
              "          google.colab.kernel.accessAllowed ? 'block' : 'none';\n",
              "\n",
              "        async function convertToInteractive(key) {\n",
              "          const element = document.querySelector('#df-7bbd5d9c-7309-46e2-9de9-baac05c7824f');\n",
              "          const dataTable =\n",
              "            await google.colab.kernel.invokeFunction('convertToInteractive',\n",
              "                                                     [key], {});\n",
              "          if (!dataTable) return;\n",
              "\n",
              "          const docLinkHtml = 'Like what you see? Visit the ' +\n",
              "            '<a target=\"_blank\" href=https://colab.research.google.com/notebooks/data_table.ipynb>data table notebook</a>'\n",
              "            + ' to learn more about interactive tables.';\n",
              "          element.innerHTML = '';\n",
              "          dataTable['output_type'] = 'display_data';\n",
              "          await google.colab.output.renderOutput(dataTable, element);\n",
              "          const docLink = document.createElement('div');\n",
              "          docLink.innerHTML = docLinkHtml;\n",
              "          element.appendChild(docLink);\n",
              "        }\n",
              "      </script>\n",
              "    </div>\n",
              "  </div>\n",
              "  "
            ]
          },
          "metadata": {},
          "execution_count": 20
        }
      ]
    },
    {
      "cell_type": "markdown",
      "source": [
        "Dari value skewness diatas dapat dilihat bahwa nilai skewness atribut yang sudah ditransformasi memiliki nilai mendekati 0 dibandingkan dengan atribut yang tidak ditransformasi\n",
        "\n",
        "Weight_in_gms = -0.249746 <br>\n",
        "Weight_in_gms Transformasi = 0.114394 <br>\n",
        "\n",
        "Discount_offered = 1.798929 <br>\n",
        "Discount_offered Transformasi = 0.218223 <br>"
      ],
      "metadata": {
        "id": "B-WzjV5_dqph"
      }
    },
    {
      "cell_type": "markdown",
      "source": [
        "##FEATURE ENCODING\n"
      ],
      "metadata": {
        "id": "f3JsDbCtaVkV"
      }
    },
    {
      "cell_type": "markdown",
      "source": [
        "###LABEL ENCODING"
      ],
      "metadata": {
        "id": "Zw9xdLrUaX_S"
      }
    },
    {
      "cell_type": "code",
      "source": [
        "mapping_product_importance = {\n",
        "    'low' : 0,\n",
        "    'medium' : 1,\n",
        "    'high' : 2,\n",
        "}\n",
        "\n",
        "mapping_gender = {\n",
        "    'F' : 0,\n",
        "    'M' : 1,\n",
        "}\n",
        "\n",
        "df['Gender'] = df['Gender'].map(mapping_gender)\n",
        "df['Product_importance'] = df['Product_importance'].map(mapping_product_importance)"
      ],
      "metadata": {
        "id": "qETDiIqAaadr"
      },
      "execution_count": null,
      "outputs": []
    },
    {
      "cell_type": "markdown",
      "source": [
        "###ONE HOT ENCODING"
      ],
      "metadata": {
        "id": "tlSwqm0Uaa04"
      }
    },
    {
      "cell_type": "code",
      "source": [
        "for cats in ['Warehouse_block', 'Mode_of_Shipment']:\n",
        "    onehots = pd.get_dummies(df[cats], prefix=cats)\n",
        "    df = df.join(onehots)"
      ],
      "metadata": {
        "id": "3do8juIDZdJJ"
      },
      "execution_count": null,
      "outputs": []
    },
    {
      "cell_type": "code",
      "source": [
        "df=df.drop(['Warehouse_block', 'ID', 'Mode_of_Shipment'], axis=1)"
      ],
      "metadata": {
        "id": "_FL9nyZGan7R"
      },
      "execution_count": null,
      "outputs": []
    },
    {
      "cell_type": "markdown",
      "source": [
        "###CLASS IMBALANCE"
      ],
      "metadata": {
        "id": "7snEmXGEYo8U"
      }
    },
    {
      "cell_type": "code",
      "source": [
        "df['Reached.on.Time_Y.N'].value_counts()"
      ],
      "metadata": {
        "id": "X0qLHIfAUZ-q",
        "colab": {
          "base_uri": "https://localhost:8080/"
        },
        "outputId": "958e1600-f0e1-4da7-c96c-d17e457825b8"
      },
      "execution_count": null,
      "outputs": [
        {
          "output_type": "execute_result",
          "data": {
            "text/plain": [
              "1    6563\n",
              "0    4436\n",
              "Name: Reached.on.Time_Y.N, dtype: int64"
            ]
          },
          "metadata": {},
          "execution_count": 24
        }
      ]
    },
    {
      "cell_type": "markdown",
      "source": [
        "##FEATURE SELECTION"
      ],
      "metadata": {
        "id": "CeFl1N5aYxQW"
      }
    },
    {
      "cell_type": "code",
      "source": [
        "plt.figure(figsize=(14, 8))\n",
        "sns.heatmap(df.corr(), cmap='Blues', annot=True, fmt='.2f')"
      ],
      "metadata": {
        "colab": {
          "base_uri": "https://localhost:8080/",
          "height": 679
        },
        "id": "oHwiZ-UtYxsX",
        "outputId": "f4035e34-6eb9-423a-f478-1e21c6a87275"
      },
      "execution_count": null,
      "outputs": [
        {
          "output_type": "execute_result",
          "data": {
            "text/plain": [
              "<matplotlib.axes._subplots.AxesSubplot at 0x7fbe4442eb50>"
            ]
          },
          "metadata": {},
          "execution_count": 25
        },
        {
          "output_type": "display_data",
          "data": {
            "text/plain": [
              "<Figure size 1008x576 with 2 Axes>"
            ],
            "image/png": "[encoded data removed]"
          },
          "metadata": {
            "needs_background": "light"
          }
        }
      ]
    },
    {
      "cell_type": "code",
      "source": [
        "df=df.drop(columns=['Gender','Mode_of_Shipment_Flight','Mode_of_Shipment_Road','Mode_of_Shipment_Ship','Warehouse_block_A','Warehouse_block_B','Warehouse_block_C','Warehouse_block_D','Warehouse_block_F', 'Weight_in_gms', 'Discount_offered', 'bc0_discount', 'Cost_of_the_Product', 'bc2_weight'])"
      ],
      "metadata": {
        "id": "s1DynX_Layax"
      },
      "execution_count": null,
      "outputs": []
    },
    {
      "cell_type": "code",
      "source": [
        "df.head()"
      ],
      "metadata": {
        "colab": {
          "base_uri": "https://localhost:8080/",
          "height": 250
        },
        "id": "SX0S8Ob2corD",
        "outputId": "4053fd9c-d9e9-4ff6-d755-7276b613f729"
      },
      "execution_count": null,
      "outputs": [
        {
          "output_type": "execute_result",
          "data": {
            "text/plain": [
              "   Customer_care_calls  Customer_rating  Prior_purchases  Product_importance  \\\n",
              "0                    4                2                3                   0   \n",
              "1                    4                5                2                   0   \n",
              "2                    2                2                4                   0   \n",
              "3                    3                3                4                   1   \n",
              "4                    2                2                3                   1   \n",
              "\n",
              "   Reached.on.Time_Y.N  bc0_discount_std  bc2_weight_std  \\\n",
              "0                    1          1.647932       -1.262663   \n",
              "1                    1          1.918637       -0.557871   \n",
              "2                    1          1.728227       -0.395366   \n",
              "3                    1          0.280688       -1.274529   \n",
              "4                    1          1.688952       -0.853795   \n",
              "\n",
              "   Cost_of_the_Product_std  \n",
              "0                -0.690722  \n",
              "1                 0.120746  \n",
              "2                -0.565881  \n",
              "3                -0.711529  \n",
              "4                -0.545074  "
            ],
            "text/html": [
              "\n",
              "  <div id=\"df-65bdf2b1-cae6-4308-8ce6-c38571c5ba2d\">\n",
              "    <div class=\"colab-df-container\">\n",
              "      <div>\n",
              "<style scoped>\n",
              "    .dataframe tbody tr th:only-of-type {\n",
              "        vertical-align: middle;\n",
              "    }\n",
              "\n",
              "    .dataframe tbody tr th {\n",
              "        vertical-align: top;\n",
              "    }\n",
              "\n",
              "    .dataframe thead th {\n",
              "        text-align: right;\n",
              "    }\n",
              "</style>\n",
              "<table border=\"1\" class=\"dataframe\">\n",
              "  <thead>\n",
              "    <tr style=\"text-align: right;\">\n",
              "      <th></th>\n",
              "      <th>Customer_care_calls</th>\n",
              "      <th>Customer_rating</th>\n",
              "      <th>Prior_purchases</th>\n",
              "      <th>Product_importance</th>\n",
              "      <th>Reached.on.Time_Y.N</th>\n",
              "      <th>bc0_discount_std</th>\n",
              "      <th>bc2_weight_std</th>\n",
              "      <th>Cost_of_the_Product_std</th>\n",
              "    </tr>\n",
              "  </thead>\n",
              "  <tbody>\n",
              "    <tr>\n",
              "      <th>0</th>\n",
              "      <td>4</td>\n",
              "      <td>2</td>\n",
              "      <td>3</td>\n",
              "      <td>0</td>\n",
              "      <td>1</td>\n",
              "      <td>1.647932</td>\n",
              "      <td>-1.262663</td>\n",
              "      <td>-0.690722</td>\n",
              "    </tr>\n",
              "    <tr>\n",
              "      <th>1</th>\n",
              "      <td>4</td>\n",
              "      <td>5</td>\n",
              "      <td>2</td>\n",
              "      <td>0</td>\n",
              "      <td>1</td>\n",
              "      <td>1.918637</td>\n",
              "      <td>-0.557871</td>\n",
              "      <td>0.120746</td>\n",
              "    </tr>\n",
              "    <tr>\n",
              "      <th>2</th>\n",
              "      <td>2</td>\n",
              "      <td>2</td>\n",
              "      <td>4</td>\n",
              "      <td>0</td>\n",
              "      <td>1</td>\n",
              "      <td>1.728227</td>\n",
              "      <td>-0.395366</td>\n",
              "      <td>-0.565881</td>\n",
              "    </tr>\n",
              "    <tr>\n",
              "      <th>3</th>\n",
              "      <td>3</td>\n",
              "      <td>3</td>\n",
              "      <td>4</td>\n",
              "      <td>1</td>\n",
              "      <td>1</td>\n",
              "      <td>0.280688</td>\n",
              "      <td>-1.274529</td>\n",
              "      <td>-0.711529</td>\n",
              "    </tr>\n",
              "    <tr>\n",
              "      <th>4</th>\n",
              "      <td>2</td>\n",
              "      <td>2</td>\n",
              "      <td>3</td>\n",
              "      <td>1</td>\n",
              "      <td>1</td>\n",
              "      <td>1.688952</td>\n",
              "      <td>-0.853795</td>\n",
              "      <td>-0.545074</td>\n",
              "    </tr>\n",
              "  </tbody>\n",
              "</table>\n",
              "</div>\n",
              "      <button class=\"colab-df-convert\" onclick=\"convertToInteractive('df-65bdf2b1-cae6-4308-8ce6-c38571c5ba2d')\"\n",
              "              title=\"Convert this dataframe to an interactive table.\"\n",
              "              style=\"display:none;\">\n",
              "        \n",
              "  <svg xmlns=\"http://www.w3.org/2000/svg\" height=\"24px\"viewBox=\"0 0 24 24\"\n",
              "       width=\"24px\">\n",
              "    <path d=\"M0 0h24v24H0V0z\" fill=\"none\"/>\n",
              "    <path d=\"M18.56 5.44l.94 2.06.94-2.06 2.06-.94-2.06-.94-.94-2.06-.94 2.06-2.06.94zm-11 1L8.5 8.5l.94-2.06 2.06-.94-2.06-.94L8.5 2.5l-.94 2.06-2.06.94zm10 10l.94 2.06.94-2.06 2.06-.94-2.06-.94-.94-2.06-.94 2.06-2.06.94z\"/><path d=\"M17.41 7.96l-1.37-1.37c-.4-.4-.92-.59-1.43-.59-.52 0-1.04.2-1.43.59L10.3 9.45l-7.72 7.72c-.78.78-.78 2.05 0 2.83L4 21.41c.39.39.9.59 1.41.59.51 0 1.02-.2 1.41-.59l7.78-7.78 2.81-2.81c.8-.78.8-2.07 0-2.86zM5.41 20L4 18.59l7.72-7.72 1.47 1.35L5.41 20z\"/>\n",
              "  </svg>\n",
              "      </button>\n",
              "      \n",
              "  <style>\n",
              "    .colab-df-container {\n",
              "      display:flex;\n",
              "      flex-wrap:wrap;\n",
              "      gap: 12px;\n",
              "    }\n",
              "\n",
              "    .colab-df-convert {\n",
              "      background-color: #E8F0FE;\n",
              "      border: none;\n",
              "      border-radius: 50%;\n",
              "      cursor: pointer;\n",
              "      display: none;\n",
              "      fill: #1967D2;\n",
              "      height: 32px;\n",
              "      padding: 0 0 0 0;\n",
              "      width: 32px;\n",
              "    }\n",
              "\n",
              "    .colab-df-convert:hover {\n",
              "      background-color: #E2EBFA;\n",
              "      box-shadow: 0px 1px 2px rgba(60, 64, 67, 0.3), 0px 1px 3px 1px rgba(60, 64, 67, 0.15);\n",
              "      fill: #174EA6;\n",
              "    }\n",
              "\n",
              "    [theme=dark] .colab-df-convert {\n",
              "      background-color: #3B4455;\n",
              "      fill: #D2E3FC;\n",
              "    }\n",
              "\n",
              "    [theme=dark] .colab-df-convert:hover {\n",
              "      background-color: #434B5C;\n",
              "      box-shadow: 0px 1px 3px 1px rgba(0, 0, 0, 0.15);\n",
              "      filter: drop-shadow(0px 1px 2px rgba(0, 0, 0, 0.3));\n",
              "      fill: #FFFFFF;\n",
              "    }\n",
              "  </style>\n",
              "\n",
              "      <script>\n",
              "        const buttonEl =\n",
              "          document.querySelector('#df-65bdf2b1-cae6-4308-8ce6-c38571c5ba2d button.colab-df-convert');\n",
              "        buttonEl.style.display =\n",
              "          google.colab.kernel.accessAllowed ? 'block' : 'none';\n",
              "\n",
              "        async function convertToInteractive(key) {\n",
              "          const element = document.querySelector('#df-65bdf2b1-cae6-4308-8ce6-c38571c5ba2d');\n",
              "          const dataTable =\n",
              "            await google.colab.kernel.invokeFunction('convertToInteractive',\n",
              "                                                     [key], {});\n",
              "          if (!dataTable) return;\n",
              "\n",
              "          const docLinkHtml = 'Like what you see? Visit the ' +\n",
              "            '<a target=\"_blank\" href=https://colab.research.google.com/notebooks/data_table.ipynb>data table notebook</a>'\n",
              "            + ' to learn more about interactive tables.';\n",
              "          element.innerHTML = '';\n",
              "          dataTable['output_type'] = 'display_data';\n",
              "          await google.colab.output.renderOutput(dataTable, element);\n",
              "          const docLink = document.createElement('div');\n",
              "          docLink.innerHTML = docLinkHtml;\n",
              "          element.appendChild(docLink);\n",
              "        }\n",
              "      </script>\n",
              "    </div>\n",
              "  </div>\n",
              "  "
            ]
          },
          "metadata": {},
          "execution_count": 27
        }
      ]
    },
    {
      "cell_type": "code",
      "source": [
        "df.describe()"
      ],
      "metadata": {
        "colab": {
          "base_uri": "https://localhost:8080/",
          "height": 344
        },
        "id": "3qidUItfcq1i",
        "outputId": "4fa228cb-8c3d-487c-bd35-3ef6169a38b0"
      },
      "execution_count": null,
      "outputs": [
        {
          "output_type": "execute_result",
          "data": {
            "text/plain": [
              "       Customer_care_calls  Customer_rating  Prior_purchases  \\\n",
              "count         10999.000000     10999.000000     10999.000000   \n",
              "mean              4.054459         2.990545         3.567597   \n",
              "std               1.141490         1.413603         1.522860   \n",
              "min               2.000000         1.000000         2.000000   \n",
              "25%               3.000000         2.000000         3.000000   \n",
              "50%               4.000000         3.000000         3.000000   \n",
              "75%               5.000000         4.000000         4.000000   \n",
              "max               7.000000         5.000000        10.000000   \n",
              "\n",
              "       Product_importance  Reached.on.Time_Y.N  bc0_discount_std  \\\n",
              "count        10999.000000         10999.000000      1.099900e+04   \n",
              "mean             0.604600             0.596691     -1.087135e-14   \n",
              "std              0.641464             0.490584      1.000045e+00   \n",
              "min              0.000000             0.000000     -1.844168e+00   \n",
              "25%              0.000000             0.000000     -5.648775e-01   \n",
              "50%              1.000000             1.000000     -4.845668e-02   \n",
              "75%              1.000000             1.000000      2.806876e-01   \n",
              "max              2.000000             1.000000      2.008011e+00   \n",
              "\n",
              "       bc2_weight_std  Cost_of_the_Product_std  \n",
              "count    1.099900e+04             1.099900e+04  \n",
              "mean    -2.154836e-16            -2.113653e-16  \n",
              "std      1.000045e+00             1.000045e+00  \n",
              "min     -1.308235e+00            -2.376077e+00  \n",
              "25%     -1.098809e+00            -8.571765e-01  \n",
              "50%      1.172893e-01             7.913188e-02  \n",
              "75%      8.460722e-01             8.489855e-01  \n",
              "max      4.016552e+00             2.076590e+00  "
            ],
            "text/html": [
              "\n",
              "  <div id=\"df-8a0c8517-31e2-44e0-95d4-83bc7e2d09e8\">\n",
              "    <div class=\"colab-df-container\">\n",
              "      <div>\n",
              "<style scoped>\n",
              "    .dataframe tbody tr th:only-of-type {\n",
              "        vertical-align: middle;\n",
              "    }\n",
              "\n",
              "    .dataframe tbody tr th {\n",
              "        vertical-align: top;\n",
              "    }\n",
              "\n",
              "    .dataframe thead th {\n",
              "        text-align: right;\n",
              "    }\n",
              "</style>\n",
              "<table border=\"1\" class=\"dataframe\">\n",
              "  <thead>\n",
              "    <tr style=\"text-align: right;\">\n",
              "      <th></th>\n",
              "      <th>Customer_care_calls</th>\n",
              "      <th>Customer_rating</th>\n",
              "      <th>Prior_purchases</th>\n",
              "      <th>Product_importance</th>\n",
              "      <th>Reached.on.Time_Y.N</th>\n",
              "      <th>bc0_discount_std</th>\n",
              "      <th>bc2_weight_std</th>\n",
              "      <th>Cost_of_the_Product_std</th>\n",
              "    </tr>\n",
              "  </thead>\n",
              "  <tbody>\n",
              "    <tr>\n",
              "      <th>count</th>\n",
              "      <td>10999.000000</td>\n",
              "      <td>10999.000000</td>\n",
              "      <td>10999.000000</td>\n",
              "      <td>10999.000000</td>\n",
              "      <td>10999.000000</td>\n",
              "      <td>1.099900e+04</td>\n",
              "      <td>1.099900e+04</td>\n",
              "      <td>1.099900e+04</td>\n",
              "    </tr>\n",
              "    <tr>\n",
              "      <th>mean</th>\n",
              "      <td>4.054459</td>\n",
              "      <td>2.990545</td>\n",
              "      <td>3.567597</td>\n",
              "      <td>0.604600</td>\n",
              "      <td>0.596691</td>\n",
              "      <td>-1.087135e-14</td>\n",
              "      <td>-2.154836e-16</td>\n",
              "      <td>-2.113653e-16</td>\n",
              "    </tr>\n",
              "    <tr>\n",
              "      <th>std</th>\n",
              "      <td>1.141490</td>\n",
              "      <td>1.413603</td>\n",
              "      <td>1.522860</td>\n",
              "      <td>0.641464</td>\n",
              "      <td>0.490584</td>\n",
              "      <td>1.000045e+00</td>\n",
              "      <td>1.000045e+00</td>\n",
              "      <td>1.000045e+00</td>\n",
              "    </tr>\n",
              "    <tr>\n",
              "      <th>min</th>\n",
              "      <td>2.000000</td>\n",
              "      <td>1.000000</td>\n",
              "      <td>2.000000</td>\n",
              "      <td>0.000000</td>\n",
              "      <td>0.000000</td>\n",
              "      <td>-1.844168e+00</td>\n",
              "      <td>-1.308235e+00</td>\n",
              "      <td>-2.376077e+00</td>\n",
              "    </tr>\n",
              "    <tr>\n",
              "      <th>25%</th>\n",
              "      <td>3.000000</td>\n",
              "      <td>2.000000</td>\n",
              "      <td>3.000000</td>\n",
              "      <td>0.000000</td>\n",
              "      <td>0.000000</td>\n",
              "      <td>-5.648775e-01</td>\n",
              "      <td>-1.098809e+00</td>\n",
              "      <td>-8.571765e-01</td>\n",
              "    </tr>\n",
              "    <tr>\n",
              "      <th>50%</th>\n",
              "      <td>4.000000</td>\n",
              "      <td>3.000000</td>\n",
              "      <td>3.000000</td>\n",
              "      <td>1.000000</td>\n",
              "      <td>1.000000</td>\n",
              "      <td>-4.845668e-02</td>\n",
              "      <td>1.172893e-01</td>\n",
              "      <td>7.913188e-02</td>\n",
              "    </tr>\n",
              "    <tr>\n",
              "      <th>75%</th>\n",
              "      <td>5.000000</td>\n",
              "      <td>4.000000</td>\n",
              "      <td>4.000000</td>\n",
              "      <td>1.000000</td>\n",
              "      <td>1.000000</td>\n",
              "      <td>2.806876e-01</td>\n",
              "      <td>8.460722e-01</td>\n",
              "      <td>8.489855e-01</td>\n",
              "    </tr>\n",
              "    <tr>\n",
              "      <th>max</th>\n",
              "      <td>7.000000</td>\n",
              "      <td>5.000000</td>\n",
              "      <td>10.000000</td>\n",
              "      <td>2.000000</td>\n",
              "      <td>1.000000</td>\n",
              "      <td>2.008011e+00</td>\n",
              "      <td>4.016552e+00</td>\n",
              "      <td>2.076590e+00</td>\n",
              "    </tr>\n",
              "  </tbody>\n",
              "</table>\n",
              "</div>\n",
              "      <button class=\"colab-df-convert\" onclick=\"convertToInteractive('df-8a0c8517-31e2-44e0-95d4-83bc7e2d09e8')\"\n",
              "              title=\"Convert this dataframe to an interactive table.\"\n",
              "              style=\"display:none;\">\n",
              "        \n",
              "  <svg xmlns=\"http://www.w3.org/2000/svg\" height=\"24px\"viewBox=\"0 0 24 24\"\n",
              "       width=\"24px\">\n",
              "    <path d=\"M0 0h24v24H0V0z\" fill=\"none\"/>\n",
              "    <path d=\"M18.56 5.44l.94 2.06.94-2.06 2.06-.94-2.06-.94-.94-2.06-.94 2.06-2.06.94zm-11 1L8.5 8.5l.94-2.06 2.06-.94-2.06-.94L8.5 2.5l-.94 2.06-2.06.94zm10 10l.94 2.06.94-2.06 2.06-.94-2.06-.94-.94-2.06-.94 2.06-2.06.94z\"/><path d=\"M17.41 7.96l-1.37-1.37c-.4-.4-.92-.59-1.43-.59-.52 0-1.04.2-1.43.59L10.3 9.45l-7.72 7.72c-.78.78-.78 2.05 0 2.83L4 21.41c.39.39.9.59 1.41.59.51 0 1.02-.2 1.41-.59l7.78-7.78 2.81-2.81c.8-.78.8-2.07 0-2.86zM5.41 20L4 18.59l7.72-7.72 1.47 1.35L5.41 20z\"/>\n",
              "  </svg>\n",
              "      </button>\n",
              "      \n",
              "  <style>\n",
              "    .colab-df-container {\n",
              "      display:flex;\n",
              "      flex-wrap:wrap;\n",
              "      gap: 12px;\n",
              "    }\n",
              "\n",
              "    .colab-df-convert {\n",
              "      background-color: #E8F0FE;\n",
              "      border: none;\n",
              "      border-radius: 50%;\n",
              "      cursor: pointer;\n",
              "      display: none;\n",
              "      fill: #1967D2;\n",
              "      height: 32px;\n",
              "      padding: 0 0 0 0;\n",
              "      width: 32px;\n",
              "    }\n",
              "\n",
              "    .colab-df-convert:hover {\n",
              "      background-color: #E2EBFA;\n",
              "      box-shadow: 0px 1px 2px rgba(60, 64, 67, 0.3), 0px 1px 3px 1px rgba(60, 64, 67, 0.15);\n",
              "      fill: #174EA6;\n",
              "    }\n",
              "\n",
              "    [theme=dark] .colab-df-convert {\n",
              "      background-color: #3B4455;\n",
              "      fill: #D2E3FC;\n",
              "    }\n",
              "\n",
              "    [theme=dark] .colab-df-convert:hover {\n",
              "      background-color: #434B5C;\n",
              "      box-shadow: 0px 1px 3px 1px rgba(0, 0, 0, 0.15);\n",
              "      filter: drop-shadow(0px 1px 2px rgba(0, 0, 0, 0.3));\n",
              "      fill: #FFFFFF;\n",
              "    }\n",
              "  </style>\n",
              "\n",
              "      <script>\n",
              "        const buttonEl =\n",
              "          document.querySelector('#df-8a0c8517-31e2-44e0-95d4-83bc7e2d09e8 button.colab-df-convert');\n",
              "        buttonEl.style.display =\n",
              "          google.colab.kernel.accessAllowed ? 'block' : 'none';\n",
              "\n",
              "        async function convertToInteractive(key) {\n",
              "          const element = document.querySelector('#df-8a0c8517-31e2-44e0-95d4-83bc7e2d09e8');\n",
              "          const dataTable =\n",
              "            await google.colab.kernel.invokeFunction('convertToInteractive',\n",
              "                                                     [key], {});\n",
              "          if (!dataTable) return;\n",
              "\n",
              "          const docLinkHtml = 'Like what you see? Visit the ' +\n",
              "            '<a target=\"_blank\" href=https://colab.research.google.com/notebooks/data_table.ipynb>data table notebook</a>'\n",
              "            + ' to learn more about interactive tables.';\n",
              "          element.innerHTML = '';\n",
              "          dataTable['output_type'] = 'display_data';\n",
              "          await google.colab.output.renderOutput(dataTable, element);\n",
              "          const docLink = document.createElement('div');\n",
              "          docLink.innerHTML = docLinkHtml;\n",
              "          element.appendChild(docLink);\n",
              "        }\n",
              "      </script>\n",
              "    </div>\n",
              "  </div>\n",
              "  "
            ]
          },
          "metadata": {},
          "execution_count": 28
        }
      ]
    },
    {
      "cell_type": "markdown",
      "source": [
        "#Stage 3"
      ],
      "metadata": {
        "id": "ue-JajIK3Vpm"
      }
    },
    {
      "cell_type": "code",
      "source": [
        "import pandas as pd\n",
        "import numpy as np\n",
        "import matplotlib.pyplot as plt\n",
        "import sklearn\n",
        "from sklearn import model_selection\n",
        "from sklearn.metrics import classification_report\n",
        "from sklearn.metrics import confusion_matrix\n",
        "from sklearn.metrics import confusion_matrix, precision_score, accuracy_score, f1_score, recall_score\n",
        "from sklearn.linear_model import LogisticRegression\n",
        "from sklearn.ensemble import RandomForestClassifier\n",
        "from sklearn.neighbors import KNeighborsClassifier\n",
        "from sklearn.discriminant_analysis import LinearDiscriminantAnalysis\n",
        "from sklearn.naive_bayes import GaussianNB\n",
        "from sklearn import svm\n",
        "from sklearn.svm import SVC\n",
        "from sklearn.neural_network import MLPClassifier\n",
        "from sklearn.metrics import accuracy_score"
      ],
      "metadata": {
        "id": "qE6tRvxnkGI0"
      },
      "execution_count": null,
      "outputs": []
    },
    {
      "cell_type": "code",
      "source": [
        "x=df.drop(columns='Reached.on.Time_Y.N')\n",
        "y=df['Reached.on.Time_Y.N']"
      ],
      "metadata": {
        "id": "sYdBrVt-DecC"
      },
      "execution_count": null,
      "outputs": []
    },
    {
      "cell_type": "code",
      "source": [
        "from sklearn.model_selection import train_test_split\n",
        "x_train, x_test, y_train, y_test=train_test_split(x, y, test_size=0.25, random_state=10)"
      ],
      "metadata": {
        "id": "FR5CnxK74Q1w"
      },
      "execution_count": null,
      "outputs": []
    },
    {
      "cell_type": "code",
      "source": [
        "def eval_model(model,Xtrain,ytrain,Xtest,ytest):\n",
        "  train_pred=model.predict(Xtrain)\n",
        "  print('Accuracy Score (Train_Set) : %.2f' % accuracy_score(ytrain, train_pred))\n",
        "  print('Precision Score (Train_Set) : %.2f' % precision_score(ytrain, train_pred))\n",
        "  print('f1 Score (Train_Set) : %.2f' % f1_score(ytrain, train_pred))\n",
        "  print('Recall Score (Train_Set) : %.2f' % recall_score(ytrain, train_pred))\n",
        "  test_pred=model.predict(Xtest)\n",
        "  print('Accuracy Score (Test_Set) : %.2f' % accuracy_score(ytest, test_pred))\n",
        "  print('Precision Score (Test_Set) : %.2f' % precision_score(ytest, test_pred))\n",
        "  print('f1 Score (Test_Set) : %.2f' % f1_score(ytest, test_pred))\n",
        "  print('Recall Score (Test_Set) : %.2f' % recall_score(ytest, test_pred))\n",
        "  print(confusion_matrix(y_test, test_pred))"
      ],
      "metadata": {
        "id": "ZQz7Zh-0a5LR"
      },
      "execution_count": null,
      "outputs": []
    },
    {
      "cell_type": "code",
      "source": [
        ""
      ],
      "metadata": {
        "id": "nlvoZGU6bCdw"
      },
      "execution_count": null,
      "outputs": []
    },
    {
      "cell_type": "markdown",
      "source": [
        "#LOGREG"
      ],
      "metadata": {
        "id": "x5AG-bdGHilQ"
      }
    },
    {
      "cell_type": "markdown",
      "source": [
        "##Sebelum Hyper"
      ],
      "metadata": {
        "id": "OVb5iOBbpg1D"
      }
    },
    {
      "cell_type": "code",
      "source": [
        "logreg= LogisticRegression(random_state=10) # inisiasi model\n",
        "logreg.fit(x_train, y_train) # Latih model\n",
        "y_pred1=logreg.predict(x_test)\n",
        "print(classification_report(y_test,y_pred1))\n",
        "eval_model(logreg,x_train,y_train,x_test,y_test)"
      ],
      "metadata": {
        "id": "wEZDhHiYpjbl",
        "colab": {
          "base_uri": "https://localhost:8080/"
        },
        "outputId": "cdca08f1-0e6f-45fa-a588-b7b12407a21e"
      },
      "execution_count": null,
      "outputs": [
        {
          "output_type": "stream",
          "name": "stdout",
          "text": [
            "              precision    recall  f1-score   support\n",
            "\n",
            "           0       0.57      0.46      0.51      1106\n",
            "           1       0.68      0.76      0.72      1644\n",
            "\n",
            "    accuracy                           0.64      2750\n",
            "   macro avg       0.62      0.61      0.61      2750\n",
            "weighted avg       0.63      0.64      0.63      2750\n",
            "\n",
            "Accuracy Score (Train_Set) : 0.63\n",
            "Precision Score (Train_Set) : 0.67\n",
            "f1 Score (Train_Set) : 0.70\n",
            "Recall Score (Train_Set) : 0.74\n",
            "Accuracy Score (Test_Set) : 0.64\n",
            "Precision Score (Test_Set) : 0.68\n",
            "f1 Score (Test_Set) : 0.72\n",
            "Recall Score (Test_Set) : 0.76\n",
            "[[ 508  598]\n",
            " [ 391 1253]]\n"
          ]
        }
      ]
    },
    {
      "cell_type": "markdown",
      "source": [
        "##Setelah Hyper"
      ],
      "metadata": {
        "id": "c216QiHtqsgQ"
      }
    },
    {
      "cell_type": "code",
      "source": [
        "penalty=[ 'l2','l1','elasticnet']\n",
        "C=[0.001,0.002,0.0001]\n",
        "hyperparameters = dict(penalty=penalty, C=C) "
      ],
      "metadata": {
        "id": "9vdtV531DXcq"
      },
      "execution_count": null,
      "outputs": []
    },
    {
      "cell_type": "code",
      "source": [
        "from sklearn.model_selection import RandomizedSearchCV, GridSearchCV\n",
        "model1= LogisticRegression(random_state=10) # inisiasi model\n",
        "logregh = RandomizedSearchCV(model1, hyperparameters, cv=5, random_state=10, scoring='precision') # randomize search dengan 5-fold cross-val\n",
        "logregh.fit(x_train, y_train) # Latih model\n",
        "y_pred2=logregh.predict(x_test)\n",
        "print(classification_report(y_test,y_pred2))\n",
        "eval_model(logregh,x_train,y_train,x_test,y_test)"
      ],
      "metadata": {
        "colab": {
          "base_uri": "https://localhost:8080/"
        },
        "id": "kTagTvBQ_xUK",
        "outputId": "fbd68a8e-1ada-4eaf-fd07-9950aadf45e9"
      },
      "execution_count": null,
      "outputs": [
        {
          "output_type": "stream",
          "name": "stderr",
          "text": [
            "/usr/local/lib/python3.7/dist-packages/sklearn/model_selection/_search.py:296: UserWarning: The total space of parameters 9 is smaller than n_iter=10. Running 9 iterations. For exhaustive searches, use GridSearchCV.\n",
            "  UserWarning,\n"
          ]
        },
        {
          "output_type": "stream",
          "name": "stdout",
          "text": [
            "              precision    recall  f1-score   support\n",
            "\n",
            "           0       0.57      0.40      0.47      1106\n",
            "           1       0.66      0.79      0.72      1644\n",
            "\n",
            "    accuracy                           0.64      2750\n",
            "   macro avg       0.62      0.60      0.60      2750\n",
            "weighted avg       0.62      0.64      0.62      2750\n",
            "\n",
            "Accuracy Score (Train_Set) : 0.63\n",
            "Precision Score (Train_Set) : 0.66\n",
            "f1 Score (Train_Set) : 0.71\n",
            "Recall Score (Train_Set) : 0.77\n",
            "Accuracy Score (Test_Set) : 0.64\n",
            "Precision Score (Test_Set) : 0.66\n",
            "f1 Score (Test_Set) : 0.72\n",
            "Recall Score (Test_Set) : 0.79\n",
            "[[ 444  662]\n",
            " [ 339 1305]]\n"
          ]
        },
        {
          "output_type": "stream",
          "name": "stderr",
          "text": [
            "/usr/local/lib/python3.7/dist-packages/sklearn/model_selection/_validation.py:372: FitFailedWarning: \n",
            "30 fits failed out of a total of 45.\n",
            "The score on these train-test partitions for these parameters will be set to nan.\n",
            "If these failures are not expected, you can try to debug them by setting error_score='raise'.\n",
            "\n",
            "Below are more details about the failures:\n",
            "--------------------------------------------------------------------------------\n",
            "15 fits failed with the following error:\n",
            "Traceback (most recent call last):\n",
            "  File \"/usr/local/lib/python3.7/dist-packages/sklearn/model_selection/_validation.py\", line 680, in _fit_and_score\n",
            "    estimator.fit(X_train, y_train, **fit_params)\n",
            "  File \"/usr/local/lib/python3.7/dist-packages/sklearn/linear_model/_logistic.py\", line 1461, in fit\n",
            "    solver = _check_solver(self.solver, self.penalty, self.dual)\n",
            "  File \"/usr/local/lib/python3.7/dist-packages/sklearn/linear_model/_logistic.py\", line 449, in _check_solver\n",
            "    % (solver, penalty)\n",
            "ValueError: Solver lbfgs supports only 'l2' or 'none' penalties, got l1 penalty.\n",
            "\n",
            "--------------------------------------------------------------------------------\n",
            "15 fits failed with the following error:\n",
            "Traceback (most recent call last):\n",
            "  File \"/usr/local/lib/python3.7/dist-packages/sklearn/model_selection/_validation.py\", line 680, in _fit_and_score\n",
            "    estimator.fit(X_train, y_train, **fit_params)\n",
            "  File \"/usr/local/lib/python3.7/dist-packages/sklearn/linear_model/_logistic.py\", line 1461, in fit\n",
            "    solver = _check_solver(self.solver, self.penalty, self.dual)\n",
            "  File \"/usr/local/lib/python3.7/dist-packages/sklearn/linear_model/_logistic.py\", line 449, in _check_solver\n",
            "    % (solver, penalty)\n",
            "ValueError: Solver lbfgs supports only 'l2' or 'none' penalties, got elasticnet penalty.\n",
            "\n",
            "  warnings.warn(some_fits_failed_message, FitFailedWarning)\n",
            "/usr/local/lib/python3.7/dist-packages/sklearn/model_selection/_search.py:972: UserWarning: One or more of the test scores are non-finite: [0.64585953        nan        nan 0.6588935         nan        nan\n",
            " 0.59626573        nan        nan]\n",
            "  category=UserWarning,\n"
          ]
        }
      ]
    },
    {
      "cell_type": "markdown",
      "source": [
        "# KNN"
      ],
      "metadata": {
        "id": "aDudJA36HpnO"
      }
    },
    {
      "cell_type": "markdown",
      "source": [
        "##Sebelum Hyper"
      ],
      "metadata": {
        "id": "V-qBsUJytDtt"
      }
    },
    {
      "cell_type": "code",
      "source": [
        "KNN=KNeighborsClassifier()\n",
        "KNN.fit(x_train, y_train)\n",
        "y_pred3=KNN.predict(x_test)\n",
        "print(classification_report(y_test,y_pred3))\n",
        "eval_model(KNN,x_train,y_train,x_test,y_test)"
      ],
      "metadata": {
        "id": "ItAuU6_otJJo",
        "colab": {
          "base_uri": "https://localhost:8080/"
        },
        "outputId": "4e86f943-8a02-4f47-d8d4-305ae58e242d"
      },
      "execution_count": null,
      "outputs": [
        {
          "output_type": "stream",
          "name": "stdout",
          "text": [
            "              precision    recall  f1-score   support\n",
            "\n",
            "           0       0.55      0.59      0.57      1106\n",
            "           1       0.71      0.67      0.69      1644\n",
            "\n",
            "    accuracy                           0.64      2750\n",
            "   macro avg       0.63      0.63      0.63      2750\n",
            "weighted avg       0.65      0.64      0.64      2750\n",
            "\n",
            "Accuracy Score (Train_Set) : 0.77\n",
            "Precision Score (Train_Set) : 0.83\n",
            "f1 Score (Train_Set) : 0.80\n",
            "Recall Score (Train_Set) : 0.78\n",
            "Accuracy Score (Test_Set) : 0.64\n",
            "Precision Score (Test_Set) : 0.71\n",
            "f1 Score (Test_Set) : 0.69\n",
            "Recall Score (Test_Set) : 0.67\n",
            "[[ 656  450]\n",
            " [ 538 1106]]\n"
          ]
        }
      ]
    },
    {
      "cell_type": "markdown",
      "source": [
        "##Setelah Hyper"
      ],
      "metadata": {
        "id": "uCMlVdQCtaoY"
      }
    },
    {
      "cell_type": "code",
      "source": [
        "#hyperparameter\n",
        "n_neighbors = list(range(2,105))\n",
        "p=[1,2]\n",
        "algorithm = ['auto', 'ball_tree', 'kd_tree', 'brute']\n",
        "hyperparameters = dict(n_neighbors=n_neighbors, p=p, algorithm=algorithm)"
      ],
      "metadata": {
        "id": "f_QkhsOvys3w"
      },
      "execution_count": null,
      "outputs": []
    },
    {
      "cell_type": "code",
      "source": [
        "model2=KNeighborsClassifier()\n",
        "KNNh = RandomizedSearchCV(model2, hyperparameters, cv=5, random_state=10, scoring='precision')\n",
        "KNNh.fit(x_train, y_train)\n",
        "y_pred4=KNNh.predict(x_test)\n",
        "print(classification_report(y_test,y_pred4))\n",
        "eval_model(KNNh,x_train,y_train,x_test,y_test)"
      ],
      "metadata": {
        "colab": {
          "base_uri": "https://localhost:8080/"
        },
        "id": "IWEXpcMKDLbj",
        "outputId": "5e128a75-6b13-4503-dc84-56938dd29d02"
      },
      "execution_count": null,
      "outputs": [
        {
          "output_type": "stream",
          "name": "stdout",
          "text": [
            "              precision    recall  f1-score   support\n",
            "\n",
            "           0       0.57      0.80      0.66      1106\n",
            "           1       0.82      0.58      0.68      1644\n",
            "\n",
            "    accuracy                           0.67      2750\n",
            "   macro avg       0.69      0.69      0.67      2750\n",
            "weighted avg       0.72      0.67      0.67      2750\n",
            "\n",
            "Accuracy Score (Train_Set) : 0.69\n",
            "Precision Score (Train_Set) : 0.83\n",
            "f1 Score (Train_Set) : 0.70\n",
            "Recall Score (Train_Set) : 0.60\n",
            "Accuracy Score (Test_Set) : 0.67\n",
            "Precision Score (Test_Set) : 0.82\n",
            "f1 Score (Test_Set) : 0.68\n",
            "Recall Score (Test_Set) : 0.58\n",
            "[[890 216]\n",
            " [684 960]]\n"
          ]
        }
      ]
    },
    {
      "cell_type": "markdown",
      "source": [
        "#SVM"
      ],
      "metadata": {
        "id": "mu6mz_DyHvg3"
      }
    },
    {
      "cell_type": "markdown",
      "source": [
        "##Sebelum Hyper"
      ],
      "metadata": {
        "id": "4XwUVnplvRhN"
      }
    },
    {
      "cell_type": "code",
      "source": [
        "SVM = svm.SVC (random_state=10)\n",
        "SVM.fit(x_train, y_train)\n",
        "y_pred5=SVM.predict(x_test)\n",
        "print(classification_report(y_test,y_pred5))\n",
        "eval_model(SVM,x_train,y_train,x_test,y_test)"
      ],
      "metadata": {
        "colab": {
          "base_uri": "https://localhost:8080/"
        },
        "id": "d6xV2WSlBPIj",
        "outputId": "48825155-0b9d-4bd2-b583-c9ce8609d272"
      },
      "execution_count": null,
      "outputs": [
        {
          "output_type": "stream",
          "name": "stdout",
          "text": [
            "              precision    recall  f1-score   support\n",
            "\n",
            "           0       0.56      0.87      0.68      1106\n",
            "           1       0.86      0.54      0.67      1644\n",
            "\n",
            "    accuracy                           0.67      2750\n",
            "   macro avg       0.71      0.70      0.67      2750\n",
            "weighted avg       0.74      0.67      0.67      2750\n",
            "\n",
            "Accuracy Score (Train_Set) : 0.67\n",
            "Precision Score (Train_Set) : 0.87\n",
            "f1 Score (Train_Set) : 0.65\n",
            "Recall Score (Train_Set) : 0.52\n",
            "Accuracy Score (Test_Set) : 0.67\n",
            "Precision Score (Test_Set) : 0.86\n",
            "f1 Score (Test_Set) : 0.67\n",
            "Recall Score (Test_Set) : 0.54\n",
            "[[958 148]\n",
            " [751 893]]\n"
          ]
        }
      ]
    },
    {
      "cell_type": "code",
      "source": [
        ""
      ],
      "metadata": {
        "id": "6LMXOVS7-KYW"
      },
      "execution_count": null,
      "outputs": []
    },
    {
      "cell_type": "markdown",
      "source": [
        "##Setelah Hyper"
      ],
      "metadata": {
        "id": "5JyG-QfqwTGt"
      }
    },
    {
      "cell_type": "code",
      "source": [
        "kernel = ['linear','rbf','poly']\n",
        "hyperparameters = dict(kernel=kernel)\n",
        "model3 = svm.SVC (random_state=10)\n",
        "SVMh = RandomizedSearchCV(model3, hyperparameters, cv=5, scoring='precision')\n",
        "SVMh.fit(x_train, y_train)\n",
        "y_pred6=SVMh.predict(x_test)\n",
        "print(classification_report(y_test,y_pred6))\n",
        "eval_model(SVMh,x_train,y_train,x_test,y_test)"
      ],
      "metadata": {
        "colab": {
          "base_uri": "https://localhost:8080/"
        },
        "id": "iUfHiiSM4WO4",
        "outputId": "54396d07-4385-4159-ecbf-23f70adb2929"
      },
      "execution_count": null,
      "outputs": [
        {
          "output_type": "stream",
          "name": "stderr",
          "text": [
            "/usr/local/lib/python3.7/dist-packages/sklearn/model_selection/_search.py:296: UserWarning: The total space of parameters 3 is smaller than n_iter=10. Running 3 iterations. For exhaustive searches, use GridSearchCV.\n",
            "  UserWarning,\n"
          ]
        },
        {
          "output_type": "stream",
          "name": "stdout",
          "text": [
            "              precision    recall  f1-score   support\n",
            "\n",
            "           0       0.56      0.87      0.68      1106\n",
            "           1       0.86      0.54      0.67      1644\n",
            "\n",
            "    accuracy                           0.67      2750\n",
            "   macro avg       0.71      0.70      0.67      2750\n",
            "weighted avg       0.74      0.67      0.67      2750\n",
            "\n",
            "Accuracy Score (Train_Set) : 0.67\n",
            "Precision Score (Train_Set) : 0.87\n",
            "f1 Score (Train_Set) : 0.65\n",
            "Recall Score (Train_Set) : 0.52\n",
            "Accuracy Score (Test_Set) : 0.67\n",
            "Precision Score (Test_Set) : 0.86\n",
            "f1 Score (Test_Set) : 0.67\n",
            "Recall Score (Test_Set) : 0.54\n",
            "[[958 148]\n",
            " [751 893]]\n"
          ]
        }
      ]
    },
    {
      "cell_type": "markdown",
      "source": [
        "# Decision Tree"
      ],
      "metadata": {
        "id": "5E_clLYIiP3h"
      }
    },
    {
      "cell_type": "markdown",
      "source": [
        "##Sebelum Hyper"
      ],
      "metadata": {
        "id": "sq4t0_0Dwhpl"
      }
    },
    {
      "cell_type": "code",
      "source": [
        "from sklearn.tree import DecisionTreeClassifier\n",
        "DT = DecisionTreeClassifier(random_state=10)\n",
        "DT.fit(x_train, y_train)\n",
        "y_pred7=DT.predict(x_test)\n",
        "print(classification_report(y_test,y_pred7))\n",
        "eval_model(DT,x_train,y_train,x_test,y_test)"
      ],
      "metadata": {
        "id": "fkKZzr26wlJr",
        "colab": {
          "base_uri": "https://localhost:8080/"
        },
        "outputId": "6a5023e4-c137-4086-b561-e4297ff77591"
      },
      "execution_count": null,
      "outputs": [
        {
          "output_type": "stream",
          "name": "stdout",
          "text": [
            "              precision    recall  f1-score   support\n",
            "\n",
            "           0       0.60      0.57      0.58      1106\n",
            "           1       0.72      0.74      0.73      1644\n",
            "\n",
            "    accuracy                           0.67      2750\n",
            "   macro avg       0.66      0.65      0.65      2750\n",
            "weighted avg       0.67      0.67      0.67      2750\n",
            "\n",
            "Accuracy Score (Train_Set) : 1.00\n",
            "Precision Score (Train_Set) : 1.00\n",
            "f1 Score (Train_Set) : 1.00\n",
            "Recall Score (Train_Set) : 1.00\n",
            "Accuracy Score (Test_Set) : 0.67\n",
            "Precision Score (Test_Set) : 0.72\n",
            "f1 Score (Test_Set) : 0.73\n",
            "Recall Score (Test_Set) : 0.74\n",
            "[[ 625  481]\n",
            " [ 425 1219]]\n"
          ]
        }
      ]
    },
    {
      "cell_type": "markdown",
      "source": [
        "##Setelah Hyper"
      ],
      "metadata": {
        "id": "okOLc4muxq_v"
      }
    },
    {
      "cell_type": "code",
      "source": [
        "from scipy.stats import uniform\n",
        "import numpy as np\n",
        "\n",
        "# List of hyperparameter\n",
        "max_depth = [int(x) for x in np.linspace(1, 110, num = 30)] # Maximum number of levels in tree\n",
        "min_samples_split = [2, 5, 10, 100] # Minimum number of samples required to split a node\n",
        "min_samples_leaf = [1, 2, 4, 10, 20, 50] # Minimum number of samples required at each leaf node\n",
        "max_features = ['auto', 'sqrt'] # Number of features to consider at every split\n",
        "\n",
        "#### LENGKAPI DENGAN JAWABAN CHALLENGE TIME DISINI ####\n",
        "\n",
        "\n",
        "hyperparameters = dict(max_depth=max_depth, \n",
        "                       min_samples_split=min_samples_split, \n",
        "                       min_samples_leaf=min_samples_leaf,\n",
        "                       max_features=max_features\n",
        "                      )\n"
      ],
      "metadata": {
        "id": "J42IPmal0cPD"
      },
      "execution_count": null,
      "outputs": []
    },
    {
      "cell_type": "code",
      "source": [
        "model4 = DecisionTreeClassifier(random_state=10)\n",
        "DTh = RandomizedSearchCV(model4, hyperparameters, cv=5, scoring='precision')\n",
        "DTh.fit(x_train, y_train)\n",
        "y_pred8=DTh.predict(x_test)\n",
        "print(classification_report(y_test,y_pred8))\n",
        "eval_model(DTh,x_train,y_train,x_test,y_test)"
      ],
      "metadata": {
        "colab": {
          "base_uri": "https://localhost:8080/"
        },
        "id": "KzgXOKNdH4ig",
        "outputId": "c3e18275-0647-4b7e-e5be-1f52f38d6c8c"
      },
      "execution_count": null,
      "outputs": [
        {
          "output_type": "stream",
          "name": "stdout",
          "text": [
            "              precision    recall  f1-score   support\n",
            "\n",
            "           0       0.56      0.70      0.62      1106\n",
            "           1       0.76      0.63      0.69      1644\n",
            "\n",
            "    accuracy                           0.66      2750\n",
            "   macro avg       0.66      0.67      0.66      2750\n",
            "weighted avg       0.68      0.66      0.66      2750\n",
            "\n",
            "Accuracy Score (Train_Set) : 0.70\n",
            "Precision Score (Train_Set) : 0.80\n",
            "f1 Score (Train_Set) : 0.73\n",
            "Recall Score (Train_Set) : 0.67\n",
            "Accuracy Score (Test_Set) : 0.66\n",
            "Precision Score (Test_Set) : 0.76\n",
            "f1 Score (Test_Set) : 0.69\n",
            "Recall Score (Test_Set) : 0.63\n",
            "[[ 772  334]\n",
            " [ 601 1043]]\n"
          ]
        }
      ]
    },
    {
      "cell_type": "markdown",
      "source": [
        "#Xgboost"
      ],
      "metadata": {
        "id": "C5J6FroriU9S"
      }
    },
    {
      "cell_type": "markdown",
      "source": [
        "##Sebelum Hyper"
      ],
      "metadata": {
        "id": "MqpdxgctyCMg"
      }
    },
    {
      "cell_type": "code",
      "source": [
        "pip install xgboost"
      ],
      "metadata": {
        "id": "_3-svrmh7bhO",
        "colab": {
          "base_uri": "https://localhost:8080/"
        },
        "outputId": "e6351541-42a2-4b80-ee15-d751e55ac71a"
      },
      "execution_count": null,
      "outputs": [
        {
          "output_type": "stream",
          "name": "stdout",
          "text": [
            "Requirement already satisfied: xgboost in /usr/local/lib/python3.7/dist-packages (0.90)\n",
            "Requirement already satisfied: scipy in /usr/local/lib/python3.7/dist-packages (from xgboost) (1.4.1)\n",
            "Requirement already satisfied: numpy in /usr/local/lib/python3.7/dist-packages (from xgboost) (1.21.5)\n"
          ]
        }
      ]
    },
    {
      "cell_type": "code",
      "source": [
        "import xgboost as xgb"
      ],
      "metadata": {
        "id": "mNQVdphj7mEf"
      },
      "execution_count": null,
      "outputs": []
    },
    {
      "cell_type": "code",
      "source": [
        "xg = xgb.XGBClassifier(random_state=10)\n",
        "xg.fit(x_train,y_train)\n",
        "\n",
        "# Predict & Evaluation\n",
        "y_pred9 = xg.predict(x_test)\n",
        "print(classification_report(y_test,y_pred9))\n",
        "eval_model(xg,x_train,y_train,x_test,y_test)"
      ],
      "metadata": {
        "id": "J4oVk6jhyHwL",
        "colab": {
          "base_uri": "https://localhost:8080/"
        },
        "outputId": "fb46b516-4403-4670-8999-db2decddee35"
      },
      "execution_count": null,
      "outputs": [
        {
          "output_type": "stream",
          "name": "stdout",
          "text": [
            "              precision    recall  f1-score   support\n",
            "\n",
            "           0       0.57      0.87      0.69      1106\n",
            "           1       0.86      0.56      0.68      1644\n",
            "\n",
            "    accuracy                           0.68      2750\n",
            "   macro avg       0.72      0.71      0.68      2750\n",
            "weighted avg       0.75      0.68      0.68      2750\n",
            "\n",
            "Accuracy Score (Train_Set) : 0.71\n",
            "Precision Score (Train_Set) : 0.91\n",
            "f1 Score (Train_Set) : 0.70\n",
            "Recall Score (Train_Set) : 0.57\n",
            "Accuracy Score (Test_Set) : 0.68\n",
            "Precision Score (Test_Set) : 0.86\n",
            "f1 Score (Test_Set) : 0.68\n",
            "Recall Score (Test_Set) : 0.56\n",
            "[[962 144]\n",
            " [729 915]]\n"
          ]
        }
      ]
    },
    {
      "cell_type": "markdown",
      "source": [
        "##Setelah Hyper"
      ],
      "metadata": {
        "id": "vSv6FLzAy_JB"
      }
    },
    {
      "cell_type": "code",
      "source": [
        "from sklearn.model_selection import RandomizedSearchCV, GridSearchCV\n",
        "import numpy as np\n",
        "\n",
        "#Menjadikan ke dalam bentuk dictionary\n",
        "hyperparameters = {\n",
        "                    'max_depth' : [int(x) for x in np.linspace(10, 110, num = 11)],\n",
        "                    'min_child_weight' : [int(x) for x in np.linspace(1, 20, num = 11)],\n",
        "                    'gamma' : [float(x) for x in np.linspace(0, 1, num = 11)],\n",
        "                    'tree_method' : ['auto', 'exact', 'approx', 'hist'],\n",
        "\n",
        "                    'colsample_bytree' : [float(x) for x in np.linspace(0, 1, num = 11)],\n",
        "                    'eta' : [float(x) for x in np.linspace(0, 1, num = 100)],\n",
        "\n",
        "                    'lambda' : [float(x) for x in np.linspace(0, 1, num = 11)],\n",
        "                    'alpha' : [float(x) for x in np.linspace(0, 1, num = 11)]\n",
        "                    }\n",
        "\n",
        "# Init\n",
        "model5 = xgb.XGBClassifier(random_state=10)\n",
        "xgh = RandomizedSearchCV(xg, hyperparameters, cv=5, random_state=10, scoring='precision')\n",
        "xgh.fit(x_train,y_train)\n",
        "\n",
        "# Predict & Evaluation\n",
        "y_pred10 = xgh.predict(x_test)\n",
        "print(classification_report(y_test,y_pred10))\n",
        "eval_model(xgh,x_train,y_train,x_test,y_test)\n"
      ],
      "metadata": {
        "id": "4ZG0ZAbC6c9-",
        "colab": {
          "base_uri": "https://localhost:8080/"
        },
        "outputId": "bb05eb9f-3b98-4e49-c1ab-9a02378ae64d"
      },
      "execution_count": null,
      "outputs": [
        {
          "output_type": "stream",
          "name": "stdout",
          "text": [
            "              precision    recall  f1-score   support\n",
            "\n",
            "           0       0.58      0.69      0.63      1106\n",
            "           1       0.76      0.66      0.71      1644\n",
            "\n",
            "    accuracy                           0.68      2750\n",
            "   macro avg       0.67      0.68      0.67      2750\n",
            "weighted avg       0.69      0.68      0.68      2750\n",
            "\n",
            "Accuracy Score (Train_Set) : 0.79\n",
            "Precision Score (Train_Set) : 0.87\n",
            "f1 Score (Train_Set) : 0.81\n",
            "Recall Score (Train_Set) : 0.75\n",
            "Accuracy Score (Test_Set) : 0.68\n",
            "Precision Score (Test_Set) : 0.76\n",
            "f1 Score (Test_Set) : 0.71\n",
            "Recall Score (Test_Set) : 0.66\n",
            "[[ 768  338]\n",
            " [ 554 1090]]\n"
          ]
        }
      ]
    },
    {
      "cell_type": "markdown",
      "source": [
        "#NaiveBayes"
      ],
      "metadata": {
        "id": "p7zRntgKjBTM"
      }
    },
    {
      "cell_type": "markdown",
      "source": [
        "##Sebelum Hyper"
      ],
      "metadata": {
        "id": "qE7tzDVs9nPf"
      }
    },
    {
      "cell_type": "code",
      "source": [
        "# Training the Naive Bayes model on the Training set\n",
        "from sklearn.naive_bayes import GaussianNB\n",
        "GNB = GaussianNB()\n",
        "GNB.fit(x_train, y_train)\n",
        "\n",
        "# Predicting the Test set results\n",
        "y_pred11 = GNB.predict(x_test)\n",
        "\n",
        "# Making the Confusion Matrix\n",
        "print(classification_report(y_test,y_pred11))\n",
        "eval_model(GNB,x_train,y_train,x_test,y_test)"
      ],
      "metadata": {
        "id": "3AZV3qFJipbj",
        "colab": {
          "base_uri": "https://localhost:8080/"
        },
        "outputId": "e03c2bc9-4134-45de-c801-8395e39fc462"
      },
      "execution_count": null,
      "outputs": [
        {
          "output_type": "stream",
          "name": "stdout",
          "text": [
            "              precision    recall  f1-score   support\n",
            "\n",
            "           0       0.56      0.66      0.61      1106\n",
            "           1       0.74      0.65      0.69      1644\n",
            "\n",
            "    accuracy                           0.65      2750\n",
            "   macro avg       0.65      0.65      0.65      2750\n",
            "weighted avg       0.67      0.65      0.66      2750\n",
            "\n",
            "Accuracy Score (Train_Set) : 0.65\n",
            "Precision Score (Train_Set) : 0.73\n",
            "f1 Score (Train_Set) : 0.69\n",
            "Recall Score (Train_Set) : 0.64\n",
            "Accuracy Score (Test_Set) : 0.65\n",
            "Precision Score (Test_Set) : 0.74\n",
            "f1 Score (Test_Set) : 0.69\n",
            "Recall Score (Test_Set) : 0.65\n",
            "[[ 731  375]\n",
            " [ 578 1066]]\n"
          ]
        }
      ]
    },
    {
      "cell_type": "code",
      "source": [
        "from sklearn.preprocessing import PowerTransformer\n",
        "params_NB = {'var_smoothing': np.logspace(0,-9, num=100)}\n",
        "model6 = GaussianNB()\n",
        "GNBh = GridSearchCV(estimator=model6, \n",
        "                     param_grid=params_NB, \n",
        "                     cv=5,\n",
        "                     verbose=1, \n",
        "                     scoring='precision')\n",
        "GNBh.fit(x_train, y_train)\n",
        "\n",
        "# Predicting the Test set results\n",
        "y_pred12 = GNBh.predict(x_test)\n",
        "\n",
        "# Making the Confusion Matrix\n",
        "print(classification_report(y_test,y_pred12))\n",
        "eval_model(GNBh,x_train,y_train,x_test,y_test)"
      ],
      "metadata": {
        "colab": {
          "base_uri": "https://localhost:8080/"
        },
        "id": "fcrKKBb-9yRk",
        "outputId": "1ad5a490-365a-41b7-fd41-f035f9f9bbac"
      },
      "execution_count": null,
      "outputs": [
        {
          "output_type": "stream",
          "name": "stdout",
          "text": [
            "Fitting 5 folds for each of 100 candidates, totalling 500 fits\n",
            "              precision    recall  f1-score   support\n",
            "\n",
            "           0       0.56      0.66      0.61      1106\n",
            "           1       0.74      0.65      0.69      1644\n",
            "\n",
            "    accuracy                           0.66      2750\n",
            "   macro avg       0.65      0.66      0.65      2750\n",
            "weighted avg       0.67      0.66      0.66      2750\n",
            "\n",
            "Accuracy Score (Train_Set) : 0.65\n",
            "Precision Score (Train_Set) : 0.74\n",
            "f1 Score (Train_Set) : 0.69\n",
            "Recall Score (Train_Set) : 0.64\n",
            "Accuracy Score (Test_Set) : 0.66\n",
            "Precision Score (Test_Set) : 0.74\n",
            "f1 Score (Test_Set) : 0.69\n",
            "Recall Score (Test_Set) : 0.65\n",
            "[[ 729  377]\n",
            " [ 568 1076]]\n"
          ]
        }
      ]
    },
    {
      "cell_type": "code",
      "source": [
        "from sklearn.inspection import permutation_importance\n",
        "import numpy as np\n",
        "import matplotlib.pyplot as plt\n",
        "%matplotlib inline\n",
        "\n",
        "svc =  SVC(kernel='rbf')\n",
        "svc.fit(x_train, y_train)\n",
        "\n",
        "perm_importance = permutation_importance(svc, x_test, y_test)\n",
        "\n",
        "feature_names = ['Customer_care_calls','Customer_rating','Prior_purchases','Product_importance','bc0_discount_std','bc2_weight_std','Cost_of_the_Product_std']\n",
        "features = np.array(feature_names)\n",
        "\n",
        "sorted_idx = perm_importance.importances_mean.argsort()\n",
        "plt.barh(features[sorted_idx], perm_importance.importances_mean[sorted_idx])\n",
        "plt.xlabel(\"Permutation Importance\")\n"
      ],
      "metadata": {
        "id": "tTcwuMK5w5fW",
        "colab": {
          "base_uri": "https://localhost:8080/",
          "height": 300
        },
        "outputId": "1c8cd55a-b4e4-4e27-851b-22bcfe89a0e1"
      },
      "execution_count": null,
      "outputs": [
        {
          "output_type": "execute_result",
          "data": {
            "text/plain": [
              "Text(0.5, 0, 'Permutation Importance')"
            ]
          },
          "metadata": {},
          "execution_count": 50
        },
        {
          "output_type": "display_data",
          "data": {
            "text/plain": [
              "<Figure size 432x288 with 1 Axes>"
            ],
            "image/png": "[encoded data removed]"
          },
          "metadata": {
            "needs_background": "light"
          }
        }
      ]
    },
    {
      "cell_type": "markdown",
      "source": [
        "## ITERASI MODEL SVM DENGAN FEATURE SELECTION"
      ],
      "metadata": {
        "id": "a00Ktdlg6lt2"
      }
    },
    {
      "cell_type": "code",
      "source": [
        "df.sample(5)"
      ],
      "metadata": {
        "colab": {
          "base_uri": "https://localhost:8080/",
          "height": 250
        },
        "id": "wi9AkbI82VyR",
        "outputId": "148bebde-274d-4b50-ad51-5b33afe929b7"
      },
      "execution_count": null,
      "outputs": [
        {
          "output_type": "execute_result",
          "data": {
            "text/plain": [
              "       Customer_care_calls  Customer_rating  Prior_purchases  \\\n",
              "5283                     6                4                4   \n",
              "6897                     4                2                5   \n",
              "10941                    5                1                5   \n",
              "7805                     3                2                6   \n",
              "1004                     3                2                6   \n",
              "\n",
              "       Product_importance  Reached.on.Time_Y.N  bc0_discount_std  \\\n",
              "5283                    1                    1         -0.048457   \n",
              "6897                    1                    1         -0.190709   \n",
              "10941                   1                    1          0.074768   \n",
              "7805                    0                    1          0.183460   \n",
              "1004                    1                    1          1.964406   \n",
              "\n",
              "       bc2_weight_std  Cost_of_the_Product_std  \n",
              "5283        -1.291103                 1.702066  \n",
              "6897        -1.131349                 1.119475  \n",
              "10941       -1.156663                 0.162359  \n",
              "7805         1.039223                 0.183166  \n",
              "1004        -1.277614                -1.335734  "
            ],
            "text/html": [
              "\n",
              "  <div id=\"df-e4e66824-473c-4072-a557-3da28b509c52\">\n",
              "    <div class=\"colab-df-container\">\n",
              "      <div>\n",
              "<style scoped>\n",
              "    .dataframe tbody tr th:only-of-type {\n",
              "        vertical-align: middle;\n",
              "    }\n",
              "\n",
              "    .dataframe tbody tr th {\n",
              "        vertical-align: top;\n",
              "    }\n",
              "\n",
              "    .dataframe thead th {\n",
              "        text-align: right;\n",
              "    }\n",
              "</style>\n",
              "<table border=\"1\" class=\"dataframe\">\n",
              "  <thead>\n",
              "    <tr style=\"text-align: right;\">\n",
              "      <th></th>\n",
              "      <th>Customer_care_calls</th>\n",
              "      <th>Customer_rating</th>\n",
              "      <th>Prior_purchases</th>\n",
              "      <th>Product_importance</th>\n",
              "      <th>Reached.on.Time_Y.N</th>\n",
              "      <th>bc0_discount_std</th>\n",
              "      <th>bc2_weight_std</th>\n",
              "      <th>Cost_of_the_Product_std</th>\n",
              "    </tr>\n",
              "  </thead>\n",
              "  <tbody>\n",
              "    <tr>\n",
              "      <th>5283</th>\n",
              "      <td>6</td>\n",
              "      <td>4</td>\n",
              "      <td>4</td>\n",
              "      <td>1</td>\n",
              "      <td>1</td>\n",
              "      <td>-0.048457</td>\n",
              "      <td>-1.291103</td>\n",
              "      <td>1.702066</td>\n",
              "    </tr>\n",
              "    <tr>\n",
              "      <th>6897</th>\n",
              "      <td>4</td>\n",
              "      <td>2</td>\n",
              "      <td>5</td>\n",
              "      <td>1</td>\n",
              "      <td>1</td>\n",
              "      <td>-0.190709</td>\n",
              "      <td>-1.131349</td>\n",
              "      <td>1.119475</td>\n",
              "    </tr>\n",
              "    <tr>\n",
              "      <th>10941</th>\n",
              "      <td>5</td>\n",
              "      <td>1</td>\n",
              "      <td>5</td>\n",
              "      <td>1</td>\n",
              "      <td>1</td>\n",
              "      <td>0.074768</td>\n",
              "      <td>-1.156663</td>\n",
              "      <td>0.162359</td>\n",
              "    </tr>\n",
              "    <tr>\n",
              "      <th>7805</th>\n",
              "      <td>3</td>\n",
              "      <td>2</td>\n",
              "      <td>6</td>\n",
              "      <td>0</td>\n",
              "      <td>1</td>\n",
              "      <td>0.183460</td>\n",
              "      <td>1.039223</td>\n",
              "      <td>0.183166</td>\n",
              "    </tr>\n",
              "    <tr>\n",
              "      <th>1004</th>\n",
              "      <td>3</td>\n",
              "      <td>2</td>\n",
              "      <td>6</td>\n",
              "      <td>1</td>\n",
              "      <td>1</td>\n",
              "      <td>1.964406</td>\n",
              "      <td>-1.277614</td>\n",
              "      <td>-1.335734</td>\n",
              "    </tr>\n",
              "  </tbody>\n",
              "</table>\n",
              "</div>\n",
              "      <button class=\"colab-df-convert\" onclick=\"convertToInteractive('df-e4e66824-473c-4072-a557-3da28b509c52')\"\n",
              "              title=\"Convert this dataframe to an interactive table.\"\n",
              "              style=\"display:none;\">\n",
              "        \n",
              "  <svg xmlns=\"http://www.w3.org/2000/svg\" height=\"24px\"viewBox=\"0 0 24 24\"\n",
              "       width=\"24px\">\n",
              "    <path d=\"M0 0h24v24H0V0z\" fill=\"none\"/>\n",
              "    <path d=\"M18.56 5.44l.94 2.06.94-2.06 2.06-.94-2.06-.94-.94-2.06-.94 2.06-2.06.94zm-11 1L8.5 8.5l.94-2.06 2.06-.94-2.06-.94L8.5 2.5l-.94 2.06-2.06.94zm10 10l.94 2.06.94-2.06 2.06-.94-2.06-.94-.94-2.06-.94 2.06-2.06.94z\"/><path d=\"M17.41 7.96l-1.37-1.37c-.4-.4-.92-.59-1.43-.59-.52 0-1.04.2-1.43.59L10.3 9.45l-7.72 7.72c-.78.78-.78 2.05 0 2.83L4 21.41c.39.39.9.59 1.41.59.51 0 1.02-.2 1.41-.59l7.78-7.78 2.81-2.81c.8-.78.8-2.07 0-2.86zM5.41 20L4 18.59l7.72-7.72 1.47 1.35L5.41 20z\"/>\n",
              "  </svg>\n",
              "      </button>\n",
              "      \n",
              "  <style>\n",
              "    .colab-df-container {\n",
              "      display:flex;\n",
              "      flex-wrap:wrap;\n",
              "      gap: 12px;\n",
              "    }\n",
              "\n",
              "    .colab-df-convert {\n",
              "      background-color: #E8F0FE;\n",
              "      border: none;\n",
              "      border-radius: 50%;\n",
              "      cursor: pointer;\n",
              "      display: none;\n",
              "      fill: #1967D2;\n",
              "      height: 32px;\n",
              "      padding: 0 0 0 0;\n",
              "      width: 32px;\n",
              "    }\n",
              "\n",
              "    .colab-df-convert:hover {\n",
              "      background-color: #E2EBFA;\n",
              "      box-shadow: 0px 1px 2px rgba(60, 64, 67, 0.3), 0px 1px 3px 1px rgba(60, 64, 67, 0.15);\n",
              "      fill: #174EA6;\n",
              "    }\n",
              "\n",
              "    [theme=dark] .colab-df-convert {\n",
              "      background-color: #3B4455;\n",
              "      fill: #D2E3FC;\n",
              "    }\n",
              "\n",
              "    [theme=dark] .colab-df-convert:hover {\n",
              "      background-color: #434B5C;\n",
              "      box-shadow: 0px 1px 3px 1px rgba(0, 0, 0, 0.15);\n",
              "      filter: drop-shadow(0px 1px 2px rgba(0, 0, 0, 0.3));\n",
              "      fill: #FFFFFF;\n",
              "    }\n",
              "  </style>\n",
              "\n",
              "      <script>\n",
              "        const buttonEl =\n",
              "          document.querySelector('#df-e4e66824-473c-4072-a557-3da28b509c52 button.colab-df-convert');\n",
              "        buttonEl.style.display =\n",
              "          google.colab.kernel.accessAllowed ? 'block' : 'none';\n",
              "\n",
              "        async function convertToInteractive(key) {\n",
              "          const element = document.querySelector('#df-e4e66824-473c-4072-a557-3da28b509c52');\n",
              "          const dataTable =\n",
              "            await google.colab.kernel.invokeFunction('convertToInteractive',\n",
              "                                                     [key], {});\n",
              "          if (!dataTable) return;\n",
              "\n",
              "          const docLinkHtml = 'Like what you see? Visit the ' +\n",
              "            '<a target=\"_blank\" href=https://colab.research.google.com/notebooks/data_table.ipynb>data table notebook</a>'\n",
              "            + ' to learn more about interactive tables.';\n",
              "          element.innerHTML = '';\n",
              "          dataTable['output_type'] = 'display_data';\n",
              "          await google.colab.output.renderOutput(dataTable, element);\n",
              "          const docLink = document.createElement('div');\n",
              "          docLink.innerHTML = docLinkHtml;\n",
              "          element.appendChild(docLink);\n",
              "        }\n",
              "      </script>\n",
              "    </div>\n",
              "  </div>\n",
              "  "
            ]
          },
          "metadata": {},
          "execution_count": 52
        }
      ]
    },
    {
      "cell_type": "code",
      "source": [
        "x1=df.drop(columns=['Reached.on.Time_Y.N','Customer_care_calls','Customer_rating','Prior_purchases','Product_importance','Cost_of_the_Product_std'])\n",
        "y1=df['Reached.on.Time_Y.N']"
      ],
      "metadata": {
        "id": "pzyPQgobxYON"
      },
      "execution_count": null,
      "outputs": []
    },
    {
      "cell_type": "code",
      "source": [
        "from sklearn.model_selection import train_test_split\n",
        "x1_train, x1_test, y1_train, y1_test=train_test_split(x1, y1, test_size=0.25, random_state=10)"
      ],
      "metadata": {
        "id": "lkTXnzDO2yD-"
      },
      "execution_count": null,
      "outputs": []
    },
    {
      "cell_type": "code",
      "source": [
        "kernel = ['linear','rbf','poly']\n",
        "hyperparameters = dict(kernel=kernel)\n",
        "modelnew = svm.SVC (random_state=10)\n",
        "SVMnew = RandomizedSearchCV(modelnew, hyperparameters, cv=5, scoring='precision')\n",
        "SVMnew.fit(x1_train, y1_train)\n",
        "y_prednew=SVMnew.predict(x1_test)\n",
        "print(classification_report(y1_test,y_prednew))\n",
        "eval_model(SVMnew,x1_train,y1_train,x1_test,y1_test)"
      ],
      "metadata": {
        "colab": {
          "base_uri": "https://localhost:8080/"
        },
        "id": "anVbN7jh29Ha",
        "outputId": "e2b893a1-d3cb-4652-8495-8580b2feae91"
      },
      "execution_count": null,
      "outputs": [
        {
          "output_type": "stream",
          "name": "stderr",
          "text": [
            "/usr/local/lib/python3.7/dist-packages/sklearn/model_selection/_search.py:296: UserWarning: The total space of parameters 3 is smaller than n_iter=10. Running 3 iterations. For exhaustive searches, use GridSearchCV.\n",
            "  UserWarning,\n"
          ]
        },
        {
          "output_type": "stream",
          "name": "stdout",
          "text": [
            "              precision    recall  f1-score   support\n",
            "\n",
            "           0       0.57      0.76      0.65      1106\n",
            "           1       0.79      0.62      0.69      1644\n",
            "\n",
            "    accuracy                           0.67      2750\n",
            "   macro avg       0.68      0.69      0.67      2750\n",
            "weighted avg       0.70      0.67      0.68      2750\n",
            "\n",
            "Accuracy Score (Train_Set) : 0.67\n",
            "Precision Score (Train_Set) : 0.79\n",
            "f1 Score (Train_Set) : 0.69\n",
            "Recall Score (Train_Set) : 0.60\n",
            "Accuracy Score (Test_Set) : 0.67\n",
            "Precision Score (Test_Set) : 0.79\n",
            "f1 Score (Test_Set) : 0.69\n",
            "Recall Score (Test_Set) : 0.62\n",
            "[[ 842  264]\n",
            " [ 632 1012]]\n"
          ]
        }
      ]
    }
  ]
}